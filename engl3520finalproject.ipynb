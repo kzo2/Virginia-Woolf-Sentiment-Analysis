{
 "cells": [
  {
   "cell_type": "markdown",
   "metadata": {},
   "source": [
    "# Reevaluating Elusive Emotions in Woolf Through Quantitative Sentiment Analysis\n",
    "KAELA OLSEN, Cornell University, English & Information Science<br>\n",
    "<br> \n",
    "December 20, 2020<br>\n",
    "ENGL 3520: Virginia Woolf<br> \n",
    "Professor Elizabeth Evans<br>"
   ]
  },
  {
   "cell_type": "markdown",
   "metadata": {},
   "source": [
    "## 1. Introduction\n",
    "Virginia Woolf (1882-1941), considered one of the most important 20th-century novelists, pioneered her own style of free indirect discourse and stream-of-conscious narratives. Many of her works, including the notable <em>Mrs. Dalloway</em> and <em>To the Lighthouse</em>, are iconic modernist texts that truly defined the genre and the era. Novels like these placed Woolf at the center of the modernist reinvention of literature to focus on the subjective, rather than objective, human experience. Furthermore, her critical essays, <em>A Room of One's Own</em> and <em>Three Guineas</em>,  positioned her as a respected and perceptive social critic who wrote in support of feminism and anti-colonial pacifism. \n",
    "\n",
    "Across all her texts, the intensity of Woolf's writing style allows her magnificent and unmatched ability to evoke emotion out of almost every and any situation, creating worlds abundant with sensation. Emotion and sentiment serve as omnipresent, omniscient characters in her works, characters so elusive and evasive it may seem impossible to accurately define and define. \n",
    "\n",
    "Through text-mining and data analysis, this project hopes to tackle this challenge of objectifying the subjective, to quantify the fluctuation of emotions within her characters, her worlds, and her ideas. By painting an alternate picture of the emotions that illuminate and illustrate the worlds Woolf creates, we can rediscover Woolf’s most influential novels, essays, and stories. "
   ]
  },
  {
   "cell_type": "markdown",
   "metadata": {},
   "source": [
    "<em>Research Questions:</em><br>\n",
    "By quantifying the mood of Woolf’s sentences through sentiment analysis, we are provided new measures to compare and contrast emotion across texts. We hope to discover how our quantitative analysis of sentiment diverges from our qualitative analysis. What differences arise when replacing a human interpreter, reading sentence by sentence, with a computer interpreter that parses through sentence by sentence? How can these dissonances cause us to think more critically about Woolf's texts?"
   ]
  },
  {
   "cell_type": "markdown",
   "metadata": {},
   "source": [
    "## 2. Data Collection with Web-Scraping\n",
    "The data used for this sentiment analysis was web-scraped from online e-books provided by Project Gutenberg Australia, which provides free e-books by authors who died before 1955. This analysis looks at the following texts:\n",
    "\n",
    "Novels:<br>\n",
    "<em>The Voyage Out</em> (1915), <em>Night and Day</em> (1919), <em>Jacob's Room</em> (1922), <em>Mrs. Dalloway</em> (1925), <em>To the Lighthouse</em> (1927), <em>The Waves</em> (1931), <em>The Years</em> (1937), <em>Between the Acts</em> (1941).\n",
    "\n",
    "Short Stories:<br>\n",
    "\"The Mark On the Wall\" (1917), \"Kew Gardens\" (1919), \"Street Haunting\" (1930).\n",
    "\n",
    "Biographies:<br>\n",
    "<em>Orlando: A Biography</em> (1928), <em>Flush: A Biography</em> (1933).\n",
    "\n",
    "Essays:<br>\n",
    "\"Modern Fiction\" (1921), \"Mr. Bennett and Mrs. Brown\" (1923), <em>A Room of One's Own</em> (1929), <em>Three Guineas</em> (1938).\n",
    "\n",
    "Most of these texts are formatted as e-books on their own Project Gutenberg web page. Below, a function, ‘text_from_url’,  is createtd to extract the relevant text from the webpage URLs, using requests to pull the URL's content, then BeautifulSoup to parse through the HTML to access the page's text and remove any extraneous text in from sections like headings, footers, or tables."
   ]
  },
  {
   "cell_type": "code",
   "execution_count": 1,
   "metadata": {},
   "outputs": [],
   "source": [
    "# First, importing some packages...\n",
    "import re\n",
    "import requests\n",
    "from bs4 import BeautifulSoup\n",
    "import numpy as np\n",
    "import pandas as pd\n",
    "from matplotlib import pyplot as plt\n",
    "import matplotlib.transforms as transforms"
   ]
  },
  {
   "cell_type": "code",
   "execution_count": 2,
   "metadata": {},
   "outputs": [],
   "source": [
    "# Function that pulls a textfield off a .html website\n",
    "def text_from_url(url):\n",
    "    '''Pull a textfield from a HTML website from each <p> div class.\n",
    "    Returns a textfield.'''\n",
    "    \n",
    "    res = requests.get(url)\n",
    "    html_page = res.content\n",
    "    soup = BeautifulSoup(html_page, 'html.parser')\n",
    "    text = soup.find_all(text=True)\n",
    "    \n",
    "    output = ''\n",
    "    blacklist = ['[document]','a','b','big','blockquote','body','center','font','i','h1','h2','head','html','pre','style','table','td','title','tr']\n",
    "\n",
    "    for t in text:\n",
    "        if t.parent.name not in blacklist:\n",
    "            output += '{} '.format(t)\n",
    "            \n",
    "    return output"
   ]
  },
  {
   "cell_type": "markdown",
   "metadata": {},
   "source": [
    "As an example, we can see the textfield output that text_from_url would pull off of the Project Gutenberg webpage for <em>Mrs. Dalloway</em>. Here we print just the first five hundred characters:"
   ]
  },
  {
   "cell_type": "code",
   "execution_count": 3,
   "metadata": {
    "scrolled": true
   },
   "outputs": [
    {
     "data": {
      "text/plain": [
       "\"\\xa0 \\xa0 \\xa0 \\xa0 \\xa0 \\xa0 \\xa0 \\xa0 Mrs. Dalloway said she would buy the flowers herself. For Lucy had her work cut out for her. The doors would be taken\\r\\noff their hinges; Rumpelmayer's men were coming. And then, thought\\r\\nClarissa Dalloway, what a morning--fresh as if issued to children on\\r\\na beach. What a lark! What a plunge! For so it had always seemed to her,\\r\\nwhen, with a little squeak of the hinges, which she could hear now,\\r\\nshe had burst open the French windows and plunged at Bourton into the\\r\\nopen air. How\""
      ]
     },
     "execution_count": 3,
     "metadata": {},
     "output_type": "execute_result"
    }
   ],
   "source": [
    "mrs_dalloway_url = 'http://gutenberg.net.au/ebooks02/0200991h.html'\n",
    "mrs_dalloway = text_from_url(mrs_dalloway_url)\n",
    "mrs_dalloway[:500]"
   ]
  },
  {
   "cell_type": "markdown",
   "metadata": {},
   "source": [
    "While we did pull out the entire novel’s text, we also caught a decent amount of gibberish! Now, we create a function that parses through this complicated jumble of characters to pull out a clean list of sentences."
   ]
  },
  {
   "cell_type": "code",
   "execution_count": 4,
   "metadata": {},
   "outputs": [],
   "source": [
    "# Function that parses through a textfield to extracts sentences\n",
    "alphabets = \"([A-Za-z])\"\n",
    "prefixes = \"(Mr|St|Mrs|Ms|Dr|Prof|Capt|Cpt|Lt|Mt)[.]\"\n",
    "suffixes = \"(Inc|Ltd|Jr|Sr|Co)\"\n",
    "starters = \"(Mr|Mrs|Ms|Dr|He\\s|She\\s|It\\s|They\\s|Their\\s|Our\\s|We\\s|But\\s|However\\s|That\\s|This\\s|Wherever)\"\n",
    "acronyms = \"([A-Z][.][A-Z][.](?:[A-Z][.])?)\"\n",
    "\n",
    "def extract_sentences(text):\n",
    "    '''Manipulate a textfield into a list of strings, where each string is a new sentence.\n",
    "    Returns a string of individual sentences within a textfield.'''\n",
    "   \n",
    "    text = \" \" + text + \"  \"\n",
    "    text = text.replace(\"\\n\",\" \")\n",
    "    text = text.replace(\"\\r\",\"\")\n",
    "    text = re.sub(prefixes,\"\\\\1<prd>\",text)\n",
    "    \n",
    "    if \"Ph.D\" in text: text = text.replace(\"Ph.D.\",\"Ph<prd>D<prd>\")\n",
    "    if \"...\" in text: text = text.replace(\"...\",\"<prd><prd><prd>\")\n",
    "\n",
    "    text = re.sub(\"\\s\" + alphabets + \"[.] \",\" \\\\1<prd> \",text)\n",
    "    text = re.sub(acronyms+\" \"+starters,\"\\\\1<stop> \\\\2\",text)\n",
    "    text = re.sub(alphabets + \"[.]\" + alphabets + \"[.]\" + alphabets + \"[.]\",\"\\\\1<prd>\\\\2<prd>\\\\3<prd>\",text)\n",
    "    text = re.sub(alphabets + \"[.]\" + alphabets + \"[.]\",\"\\\\1<prd>\\\\2<prd>\",text)\n",
    "    text = re.sub(\" \"+suffixes+\"[.] \"+starters,\" \\\\1<stop> \\\\2\",text)\n",
    "    text = re.sub(\" \"+suffixes+\"[.]\",\" \\\\1<prd>\",text)\n",
    "    text = re.sub(\" \" + alphabets + \"[.]\",\" \\\\1<prd>\",text)\n",
    "    \n",
    "    if \"”\" in text: text = text.replace(\".”\",\"”.\")\n",
    "    if \"\\\"\" in text: text = text.replace(\".\\\"\",\"\\\".\")\n",
    "    if \"!\" in text: text = text.replace(\"!\\\"\",\"\\\"!\")\n",
    "    if \"?\" in text: text = text.replace(\"?\\\"\",\"\\\"?\")\n",
    "\n",
    "    text = text.replace(\"\\ \", \"\")\n",
    "    text = text.replace(\".\",\".<stop>\")\n",
    "    text = text.replace(\"?\",\"?<stop>\")\n",
    "    text = text.replace(\"!\",\"!<stop>\")\n",
    "    text = text.replace(\"<prd>\",\".\")\n",
    "\n",
    "    sentences = text.split(\"<stop>\")\n",
    "    sentences = sentences[:-1]\n",
    "    sentences = [s.strip() for s in sentences]\n",
    "\n",
    "    return sentences"
   ]
  },
  {
   "cell_type": "markdown",
   "metadata": {},
   "source": [
    "This function, ‘extract_sentences’ takes the clump of text, sorts through character by character, replaces, and removes any unwanted letters or symbols. There are a few hoops to jump over: successfully discerning sentence breaks from words like \"Dr.,\" \"Inc.,\" quotations that indicate new speakers, and dashes or colons. We can see how successful our function is by trying it with the <em>Mrs. Dalloway</em> textfield."
   ]
  },
  {
   "cell_type": "code",
   "execution_count": 5,
   "metadata": {},
   "outputs": [
    {
     "data": {
      "text/plain": [
       "['Mrs. Dalloway said she would buy the flowers herself.',\n",
       " 'For Lucy had her work cut out for her.',\n",
       " \"The doors would be taken off their hinges; Rumpelmayer's men were coming.\",\n",
       " 'And then, thought Clarissa Dalloway, what a morning--fresh as if issued to children on a beach.',\n",
       " 'What a lark!',\n",
       " 'What a plunge!',\n",
       " 'For so it had always seemed to her, when, with a little squeak of the hinges, which she could hear now, she had burst open the French windows and plunged at Bourton into the open air.',\n",
       " 'How fresh, how calm, stiller than this of course, the air was in the early morning; like the flap of a wave; the kiss of a wave; chill and sharp and yet (for a girl of eighteen as she then was) solemn, feeling as she did, standing there at the open window, that something awful was about to happen; looking at the flowers, at the trees with the smoke winding off them and the rooks rising, falling; standing and looking until Peter Walsh said, \"Musing among the vegetables\"?',\n",
       " '--was that it?',\n",
       " '--\"I prefer men to cauliflowers\"--was that it?']"
      ]
     },
     "execution_count": 5,
     "metadata": {},
     "output_type": "execute_result"
    }
   ],
   "source": [
    "# Inputting the output of extract_sentences into a list\n",
    "mrs_dalloway_sentence_list = extract_sentences(mrs_dalloway)\n",
    "# Printing the first ten sentences of Mrs. Dalloway\n",
    "mrs_dalloway_sentence_list[:10]"
   ]
  },
  {
   "cell_type": "markdown",
   "metadata": {},
   "source": [
    "Success! The function provided a nice list with each sentence in <em>Mrs. Dalloway</em>. However, there is not much opportunity for data analysis with just this textfield; thus, we can turn this into a handy dataframe via a package called pandas."
   ]
  },
  {
   "cell_type": "code",
   "execution_count": 6,
   "metadata": {},
   "outputs": [
    {
     "data": {
      "text/html": [
       "<div>\n",
       "<style scoped>\n",
       "    .dataframe tbody tr th:only-of-type {\n",
       "        vertical-align: middle;\n",
       "    }\n",
       "\n",
       "    .dataframe tbody tr th {\n",
       "        vertical-align: top;\n",
       "    }\n",
       "\n",
       "    .dataframe thead th {\n",
       "        text-align: right;\n",
       "    }\n",
       "</style>\n",
       "<table border=\"1\" class=\"dataframe\">\n",
       "  <thead>\n",
       "    <tr style=\"text-align: right;\">\n",
       "      <th></th>\n",
       "      <th>sentence</th>\n",
       "    </tr>\n",
       "  </thead>\n",
       "  <tbody>\n",
       "    <tr>\n",
       "      <td>0</td>\n",
       "      <td>Mrs. Dalloway said she would buy the flowers h...</td>\n",
       "    </tr>\n",
       "    <tr>\n",
       "      <td>1</td>\n",
       "      <td>For Lucy had her work cut out for her.</td>\n",
       "    </tr>\n",
       "    <tr>\n",
       "      <td>2</td>\n",
       "      <td>The doors would be taken off their hinges; Rum...</td>\n",
       "    </tr>\n",
       "    <tr>\n",
       "      <td>3</td>\n",
       "      <td>And then, thought Clarissa Dalloway, what a mo...</td>\n",
       "    </tr>\n",
       "    <tr>\n",
       "      <td>4</td>\n",
       "      <td>What a lark!</td>\n",
       "    </tr>\n",
       "    <tr>\n",
       "      <td>...</td>\n",
       "      <td>...</td>\n",
       "    </tr>\n",
       "    <tr>\n",
       "      <td>3709</td>\n",
       "      <td>what is this ecstasy?</td>\n",
       "    </tr>\n",
       "    <tr>\n",
       "      <td>3710</td>\n",
       "      <td>he thought to himself.</td>\n",
       "    </tr>\n",
       "    <tr>\n",
       "      <td>3711</td>\n",
       "      <td>What is it that fills me with extraordinary ex...</td>\n",
       "    </tr>\n",
       "    <tr>\n",
       "      <td>3712</td>\n",
       "      <td>It is Clarissa, he said.</td>\n",
       "    </tr>\n",
       "    <tr>\n",
       "      <td>3713</td>\n",
       "      <td>For there she was.</td>\n",
       "    </tr>\n",
       "  </tbody>\n",
       "</table>\n",
       "<p>3714 rows × 1 columns</p>\n",
       "</div>"
      ],
      "text/plain": [
       "                                               sentence\n",
       "0     Mrs. Dalloway said she would buy the flowers h...\n",
       "1                For Lucy had her work cut out for her.\n",
       "2     The doors would be taken off their hinges; Rum...\n",
       "3     And then, thought Clarissa Dalloway, what a mo...\n",
       "4                                          What a lark!\n",
       "...                                                 ...\n",
       "3709                              what is this ecstasy?\n",
       "3710                             he thought to himself.\n",
       "3711  What is it that fills me with extraordinary ex...\n",
       "3712                           It is Clarissa, he said.\n",
       "3713                                 For there she was.\n",
       "\n",
       "[3714 rows x 1 columns]"
      ]
     },
     "execution_count": 6,
     "metadata": {},
     "output_type": "execute_result"
    }
   ],
   "source": [
    "# Turning the list of sentences into a pandas dataframe\n",
    "mrs_dalloway_sentence_df = pd.DataFrame(mrs_dalloway_sentence_list).rename(columns={0: 'sentence'})\n",
    "mrs_dalloway_sentence_df"
   ]
  },
  {
   "cell_type": "markdown",
   "metadata": {},
   "source": [
    "Previewing the dataframe shows us the first five and last five sentences of the book, which all match up. As shown by the 3714 rows, we also see that there are 3714 sentences in <em>Mrs. Dalloway</em>. The last sentence, \"For there she was,\" reads even more powerfully when alone in its own dataframe cell!"
   ]
  },
  {
   "cell_type": "markdown",
   "metadata": {},
   "source": [
    "## 3. Processing Textfields Into Sentences\n",
    "Now we have a sturdy process in place for extracting each publication's text off of the Project Gutenberg website, processing the extraction, and polishing it off into sentences. However, this process from start to finish was quite tedious, so if we want to repeat it for a dozen or so Woolfean texts, we should streamline it into one function for the rest of our data processing."
   ]
  },
  {
   "cell_type": "code",
   "execution_count": 7,
   "metadata": {},
   "outputs": [],
   "source": [
    "# Function that turns a .html webpage into dataframe of sentences\n",
    "def url_to_df(url):\n",
    "    '''Extract each sentence of a given text from the HTML url provided.\n",
    "    Returns dataframe where each row is an individual sentence.'''\n",
    "    \n",
    "    text = text_from_url(url)\n",
    "    sentences = extract_sentences(text)\n",
    "    df = pd.DataFrame(sentences).rename(columns={0: 'sentence'})\n",
    "    \n",
    "    return df"
   ]
  },
  {
   "cell_type": "markdown",
   "metadata": {},
   "source": [
    "There is a caveat; only about half of Woolf's texts are on HTML pages. The rest are on TXT pages (as indicated by the '.txt' at the end of the URL), which gives us the entire chunk of text directly. We can adjust our function 'url_to_df' into a new one, 'txt_to_df', that stores the text, runs the same extract_sentences function, and pulls it all together into a dataframe."
   ]
  },
  {
   "cell_type": "code",
   "execution_count": 8,
   "metadata": {},
   "outputs": [],
   "source": [
    "# Function that turns a .txt webpage into dataframe of sentences\n",
    "def txt_to_df(txt):\n",
    "    '''Extract each sentence of a given text from the TXT url provided.\n",
    "    Returns dataframe where each row is an individual sentence.'''\n",
    "    \n",
    "    response = requests.get(txt)\n",
    "    data = response.text\n",
    "    sentences = extract_sentences(data)\n",
    "    df = pd.DataFrame(sentences).rename(columns={0: 'sentence'})\n",
    "    \n",
    "    return df"
   ]
  },
  {
   "cell_type": "markdown",
   "metadata": {},
   "source": [
    "The functions we created above, url_to_df and txt_to_df, successfully create sentence dataframes for us.\n",
    "Unfortunately, a few websites had tricky formatting for the texts' headings and subheadings, produced some rows like 'VIRGINIA WOOLF PUBLISHED BY LEONARD AND VIRGINIA WOOLF AT THE HOGARTH PRESS TAVISTOCK SQUARE LONDON W.C.I 1924 MR.'. However, by removing these wonky rows through a little manipulation, we escaped with some clean datasets!"
   ]
  },
  {
   "cell_type": "code",
   "execution_count": 9,
   "metadata": {},
   "outputs": [
    {
     "data": {
      "text/html": [
       "<div>\n",
       "<style scoped>\n",
       "    .dataframe tbody tr th:only-of-type {\n",
       "        vertical-align: middle;\n",
       "    }\n",
       "\n",
       "    .dataframe tbody tr th {\n",
       "        vertical-align: top;\n",
       "    }\n",
       "\n",
       "    .dataframe thead th {\n",
       "        text-align: right;\n",
       "    }\n",
       "</style>\n",
       "<table border=\"1\" class=\"dataframe\">\n",
       "  <thead>\n",
       "    <tr style=\"text-align: right;\">\n",
       "      <th></th>\n",
       "      <th>sentence</th>\n",
       "    </tr>\n",
       "  </thead>\n",
       "  <tbody>\n",
       "    <tr>\n",
       "      <td>0</td>\n",
       "      <td>As the streets that lead from the Strand to th...</td>\n",
       "    </tr>\n",
       "    <tr>\n",
       "      <td>1</td>\n",
       "      <td>If you persist, lawyers' clerks will have to m...</td>\n",
       "    </tr>\n",
       "    <tr>\n",
       "      <td>2</td>\n",
       "      <td>In the streets of London where beauty goes unr...</td>\n",
       "    </tr>\n",
       "    <tr>\n",
       "      <td>3</td>\n",
       "      <td>One afternoon in the beginning of October when...</td>\n",
       "    </tr>\n",
       "    <tr>\n",
       "      <td>4</td>\n",
       "      <td>Angry glances struck upon their backs.</td>\n",
       "    </tr>\n",
       "    <tr>\n",
       "      <td>...</td>\n",
       "      <td>...</td>\n",
       "    </tr>\n",
       "    <tr>\n",
       "      <td>8399</td>\n",
       "      <td>Pepper beaten at last?</td>\n",
       "    </tr>\n",
       "    <tr>\n",
       "      <td>8400</td>\n",
       "      <td>I congratulate you\"!</td>\n",
       "    </tr>\n",
       "    <tr>\n",
       "      <td>8401</td>\n",
       "      <td>said Arthur Venning, who was wheeling old Mrs....</td>\n",
       "    </tr>\n",
       "    <tr>\n",
       "      <td>8402</td>\n",
       "      <td>All these voices sounded gratefully in St. Joh...</td>\n",
       "    </tr>\n",
       "    <tr>\n",
       "      <td>8403</td>\n",
       "      <td>Across his eyes passed a procession of objects...</td>\n",
       "    </tr>\n",
       "  </tbody>\n",
       "</table>\n",
       "<p>8404 rows × 1 columns</p>\n",
       "</div>"
      ],
      "text/plain": [
       "                                               sentence\n",
       "0     As the streets that lead from the Strand to th...\n",
       "1     If you persist, lawyers' clerks will have to m...\n",
       "2     In the streets of London where beauty goes unr...\n",
       "3     One afternoon in the beginning of October when...\n",
       "4                Angry glances struck upon their backs.\n",
       "...                                                 ...\n",
       "8399                             Pepper beaten at last?\n",
       "8400                               I congratulate you\"!\n",
       "8401  said Arthur Venning, who was wheeling old Mrs....\n",
       "8402  All these voices sounded gratefully in St. Joh...\n",
       "8403  Across his eyes passed a procession of objects...\n",
       "\n",
       "[8404 rows x 1 columns]"
      ]
     },
     "execution_count": 9,
     "metadata": {},
     "output_type": "execute_result"
    }
   ],
   "source": [
    "# The Voyage Out (1915)\n",
    "voyage_out_url = 'http://gutenberg.net.au/ebooks/m00020.txt'\n",
    "voyage_out = txt_to_df(voyage_out_url)\n",
    "voyage_out['sentence'][0] = voyage_out['sentence'][0].replace('Project Gutenberg Australia    THE VOYAGE OUT (1915) by Virginia Woolf (1882-1941)    Chapter I   ', '', 1)\n",
    "voyage_out"
   ]
  },
  {
   "cell_type": "code",
   "execution_count": 10,
   "metadata": {},
   "outputs": [
    {
     "data": {
      "text/html": [
       "<div>\n",
       "<style scoped>\n",
       "    .dataframe tbody tr th:only-of-type {\n",
       "        vertical-align: middle;\n",
       "    }\n",
       "\n",
       "    .dataframe tbody tr th {\n",
       "        vertical-align: top;\n",
       "    }\n",
       "\n",
       "    .dataframe thead th {\n",
       "        text-align: right;\n",
       "    }\n",
       "</style>\n",
       "<table border=\"1\" class=\"dataframe\">\n",
       "  <thead>\n",
       "    <tr style=\"text-align: right;\">\n",
       "      <th></th>\n",
       "      <th>sentence</th>\n",
       "    </tr>\n",
       "  </thead>\n",
       "  <tbody>\n",
       "    <tr>\n",
       "      <td>0</td>\n",
       "      <td>It seems to me possible, perhaps desirable, th...</td>\n",
       "    </tr>\n",
       "    <tr>\n",
       "      <td>1</td>\n",
       "      <td>And when I asked myself, as your invitation to...</td>\n",
       "    </tr>\n",
       "    <tr>\n",
       "      <td>2</td>\n",
       "      <td>Catch me if you can\".</td>\n",
       "    </tr>\n",
       "    <tr>\n",
       "      <td>3</td>\n",
       "      <td>Most novelists have the same experience.</td>\n",
       "    </tr>\n",
       "    <tr>\n",
       "      <td>4</td>\n",
       "      <td>Some Brown, Smith, or Jones comes before them ...</td>\n",
       "    </tr>\n",
       "    <tr>\n",
       "      <td>...</td>\n",
       "      <td>...</td>\n",
       "    </tr>\n",
       "    <tr>\n",
       "      <td>376</td>\n",
       "      <td>Tolerate the spasmodic, the obscure, the fragm...</td>\n",
       "    </tr>\n",
       "    <tr>\n",
       "      <td>377</td>\n",
       "      <td>Your help is invoked in a good cause.</td>\n",
       "    </tr>\n",
       "    <tr>\n",
       "      <td>378</td>\n",
       "      <td>For I will make one final and surpassingly ras...</td>\n",
       "    </tr>\n",
       "    <tr>\n",
       "      <td>379</td>\n",
       "      <td>But it can only be reached if we are determine...</td>\n",
       "    </tr>\n",
       "    <tr>\n",
       "      <td>380</td>\n",
       "      <td>[1] A paper read to the Heretics, Cambridge, o...</td>\n",
       "    </tr>\n",
       "  </tbody>\n",
       "</table>\n",
       "<p>381 rows × 1 columns</p>\n",
       "</div>"
      ],
      "text/plain": [
       "                                              sentence\n",
       "0    It seems to me possible, perhaps desirable, th...\n",
       "1    And when I asked myself, as your invitation to...\n",
       "2                                Catch me if you can\".\n",
       "3             Most novelists have the same experience.\n",
       "4    Some Brown, Smith, or Jones comes before them ...\n",
       "..                                                 ...\n",
       "376  Tolerate the spasmodic, the obscure, the fragm...\n",
       "377              Your help is invoked in a good cause.\n",
       "378  For I will make one final and surpassingly ras...\n",
       "379  But it can only be reached if we are determine...\n",
       "380  [1] A paper read to the Heretics, Cambridge, o...\n",
       "\n",
       "[381 rows x 1 columns]"
      ]
     },
     "execution_count": 10,
     "metadata": {},
     "output_type": "execute_result"
    }
   ],
   "source": [
    "# Mr. Bennett and Mrs. Brown (1923)\n",
    "bennett_brown_url = 'http://www.gutenberg.org/files/63022/63022-h/63022-h.htm'\n",
    "bennett_brown = url_to_df(bennett_brown_url).iloc[2:].reset_index(drop=True)\n",
    "bennett_brown['sentence'][0] = bennett_brown['sentence'][0].replace('BROWN ', '', 1)\n",
    "bennett_brown"
   ]
  },
  {
   "cell_type": "code",
   "execution_count": 11,
   "metadata": {},
   "outputs": [
    {
     "data": {
      "text/html": [
       "<div>\n",
       "<style scoped>\n",
       "    .dataframe tbody tr th:only-of-type {\n",
       "        vertical-align: middle;\n",
       "    }\n",
       "\n",
       "    .dataframe tbody tr th {\n",
       "        vertical-align: top;\n",
       "    }\n",
       "\n",
       "    .dataframe thead th {\n",
       "        text-align: right;\n",
       "    }\n",
       "</style>\n",
       "<table border=\"1\" class=\"dataframe\">\n",
       "  <thead>\n",
       "    <tr style=\"text-align: right;\">\n",
       "      <th></th>\n",
       "      <th>sentence</th>\n",
       "    </tr>\n",
       "  </thead>\n",
       "  <tbody>\n",
       "    <tr>\n",
       "      <td>0</td>\n",
       "      <td>It is universally admitted that the family fro...</td>\n",
       "    </tr>\n",
       "    <tr>\n",
       "      <td>1</td>\n",
       "      <td>Therefore it is not strange that the origin of...</td>\n",
       "    </tr>\n",
       "    <tr>\n",
       "      <td>2</td>\n",
       "      <td>Many million years ago the country which is no...</td>\n",
       "    </tr>\n",
       "    <tr>\n",
       "      <td>3</td>\n",
       "      <td>Ages passed; vegetation appeared; where there ...</td>\n",
       "    </tr>\n",
       "    <tr>\n",
       "      <td>4</td>\n",
       "      <td>There is nothing in this that calls for questi...</td>\n",
       "    </tr>\n",
       "    <tr>\n",
       "      <td>...</td>\n",
       "      <td>...</td>\n",
       "    </tr>\n",
       "    <tr>\n",
       "      <td>2148</td>\n",
       "      <td>[10] \"he was now dead\".</td>\n",
       "    </tr>\n",
       "    <tr>\n",
       "      <td>2149</td>\n",
       "      <td>It is certain that Flush died; but the date an...</td>\n",
       "    </tr>\n",
       "    <tr>\n",
       "      <td>2150</td>\n",
       "      <td>The only reference consists in the statement t...</td>\n",
       "    </tr>\n",
       "    <tr>\n",
       "      <td>2151</td>\n",
       "      <td>Mrs. Browning was buried in the English Cemete...</td>\n",
       "    </tr>\n",
       "    <tr>\n",
       "      <td>2152</td>\n",
       "      <td>Flush still lies, therefore, beneath the house...</td>\n",
       "    </tr>\n",
       "  </tbody>\n",
       "</table>\n",
       "<p>2153 rows × 1 columns</p>\n",
       "</div>"
      ],
      "text/plain": [
       "                                               sentence\n",
       "0     It is universally admitted that the family fro...\n",
       "1     Therefore it is not strange that the origin of...\n",
       "2     Many million years ago the country which is no...\n",
       "3     Ages passed; vegetation appeared; where there ...\n",
       "4     There is nothing in this that calls for questi...\n",
       "...                                                 ...\n",
       "2148                            [10] \"he was now dead\".\n",
       "2149  It is certain that Flush died; but the date an...\n",
       "2150  The only reference consists in the statement t...\n",
       "2151  Mrs. Browning was buried in the English Cemete...\n",
       "2152  Flush still lies, therefore, beneath the house...\n",
       "\n",
       "[2153 rows x 1 columns]"
      ]
     },
     "execution_count": 11,
     "metadata": {},
     "output_type": "execute_result"
    }
   ],
   "source": [
    "# Flush: A Biography (1933)\n",
    "flush_url = 'http://gutenberg.net.au/ebooks03/0301041h.html'\n",
    "flush = url_to_df(flush_url)\n",
    "flush"
   ]
  },
  {
   "cell_type": "code",
   "execution_count": 12,
   "metadata": {},
   "outputs": [
    {
     "data": {
      "text/html": [
       "<div>\n",
       "<style scoped>\n",
       "    .dataframe tbody tr th:only-of-type {\n",
       "        vertical-align: middle;\n",
       "    }\n",
       "\n",
       "    .dataframe tbody tr th {\n",
       "        vertical-align: top;\n",
       "    }\n",
       "\n",
       "    .dataframe thead th {\n",
       "        text-align: right;\n",
       "    }\n",
       "</style>\n",
       "<table border=\"1\" class=\"dataframe\">\n",
       "  <thead>\n",
       "    <tr style=\"text-align: right;\">\n",
       "      <th></th>\n",
       "      <th>sentence</th>\n",
       "    </tr>\n",
       "  </thead>\n",
       "  <tbody>\n",
       "    <tr>\n",
       "      <td>0</td>\n",
       "      <td>Mrs. Dalloway said she would buy the flowers h...</td>\n",
       "    </tr>\n",
       "    <tr>\n",
       "      <td>1</td>\n",
       "      <td>For Lucy had her work cut out for her.</td>\n",
       "    </tr>\n",
       "    <tr>\n",
       "      <td>2</td>\n",
       "      <td>The doors would be taken off their hinges; Rum...</td>\n",
       "    </tr>\n",
       "    <tr>\n",
       "      <td>3</td>\n",
       "      <td>And then, thought Clarissa Dalloway, what a mo...</td>\n",
       "    </tr>\n",
       "    <tr>\n",
       "      <td>4</td>\n",
       "      <td>What a lark!</td>\n",
       "    </tr>\n",
       "    <tr>\n",
       "      <td>...</td>\n",
       "      <td>...</td>\n",
       "    </tr>\n",
       "    <tr>\n",
       "      <td>3709</td>\n",
       "      <td>what is this ecstasy?</td>\n",
       "    </tr>\n",
       "    <tr>\n",
       "      <td>3710</td>\n",
       "      <td>he thought to himself.</td>\n",
       "    </tr>\n",
       "    <tr>\n",
       "      <td>3711</td>\n",
       "      <td>What is it that fills me with extraordinary ex...</td>\n",
       "    </tr>\n",
       "    <tr>\n",
       "      <td>3712</td>\n",
       "      <td>It is Clarissa, he said.</td>\n",
       "    </tr>\n",
       "    <tr>\n",
       "      <td>3713</td>\n",
       "      <td>For there she was.</td>\n",
       "    </tr>\n",
       "  </tbody>\n",
       "</table>\n",
       "<p>3714 rows × 1 columns</p>\n",
       "</div>"
      ],
      "text/plain": [
       "                                               sentence\n",
       "0     Mrs. Dalloway said she would buy the flowers h...\n",
       "1                For Lucy had her work cut out for her.\n",
       "2     The doors would be taken off their hinges; Rum...\n",
       "3     And then, thought Clarissa Dalloway, what a mo...\n",
       "4                                          What a lark!\n",
       "...                                                 ...\n",
       "3709                              what is this ecstasy?\n",
       "3710                             he thought to himself.\n",
       "3711  What is it that fills me with extraordinary ex...\n",
       "3712                           It is Clarissa, he said.\n",
       "3713                                 For there she was.\n",
       "\n",
       "[3714 rows x 1 columns]"
      ]
     },
     "execution_count": 12,
     "metadata": {},
     "output_type": "execute_result"
    }
   ],
   "source": [
    "# Mrs. Dalloway (1925)\n",
    "mrs_dalloway_url = 'http://gutenberg.net.au/ebooks02/0200991h.html'\n",
    "mrs_dalloway = url_to_df(mrs_dalloway_url)\n",
    "mrs_dalloway "
   ]
  },
  {
   "cell_type": "code",
   "execution_count": 13,
   "metadata": {},
   "outputs": [
    {
     "data": {
      "text/html": [
       "<div>\n",
       "<style scoped>\n",
       "    .dataframe tbody tr th:only-of-type {\n",
       "        vertical-align: middle;\n",
       "    }\n",
       "\n",
       "    .dataframe tbody tr th {\n",
       "        vertical-align: top;\n",
       "    }\n",
       "\n",
       "    .dataframe thead th {\n",
       "        text-align: right;\n",
       "    }\n",
       "</style>\n",
       "<table border=\"1\" class=\"dataframe\">\n",
       "  <thead>\n",
       "    <tr style=\"text-align: right;\">\n",
       "      <th></th>\n",
       "      <th>sentence</th>\n",
       "    </tr>\n",
       "  </thead>\n",
       "  <tbody>\n",
       "    <tr>\n",
       "      <td>0</td>\n",
       "      <td>\"Yes, of course, if it's fine tomorrow,\" said...</td>\n",
       "    </tr>\n",
       "    <tr>\n",
       "      <td>1</td>\n",
       "      <td>\"But you'll have to be up with the lark,\" she ...</td>\n",
       "    </tr>\n",
       "    <tr>\n",
       "      <td>2</td>\n",
       "      <td>To her son these words conveyed an extraordina...</td>\n",
       "    </tr>\n",
       "    <tr>\n",
       "      <td>3</td>\n",
       "      <td>Since he belonged, even at the age of six, to ...</td>\n",
       "    </tr>\n",
       "    <tr>\n",
       "      <td>4</td>\n",
       "      <td>It was fringed with joy.</td>\n",
       "    </tr>\n",
       "    <tr>\n",
       "      <td>...</td>\n",
       "      <td>...</td>\n",
       "    </tr>\n",
       "    <tr>\n",
       "      <td>3510</td>\n",
       "      <td>she asked herself, taking up her brush again.</td>\n",
       "    </tr>\n",
       "    <tr>\n",
       "      <td>3511</td>\n",
       "      <td>She looked at the steps; they were empty; she ...</td>\n",
       "    </tr>\n",
       "    <tr>\n",
       "      <td>3512</td>\n",
       "      <td>With a sudden intensity, as if she saw it clea...</td>\n",
       "    </tr>\n",
       "    <tr>\n",
       "      <td>3513</td>\n",
       "      <td>It was done; it was finished.</td>\n",
       "    </tr>\n",
       "    <tr>\n",
       "      <td>3514</td>\n",
       "      <td>Yes, she thought, laying down her brush in ext...</td>\n",
       "    </tr>\n",
       "  </tbody>\n",
       "</table>\n",
       "<p>3515 rows × 1 columns</p>\n",
       "</div>"
      ],
      "text/plain": [
       "                                               sentence\n",
       "0      \"Yes, of course, if it's fine tomorrow,\" said...\n",
       "1     \"But you'll have to be up with the lark,\" she ...\n",
       "2     To her son these words conveyed an extraordina...\n",
       "3     Since he belonged, even at the age of six, to ...\n",
       "4                              It was fringed with joy.\n",
       "...                                                 ...\n",
       "3510      she asked herself, taking up her brush again.\n",
       "3511  She looked at the steps; they were empty; she ...\n",
       "3512  With a sudden intensity, as if she saw it clea...\n",
       "3513                      It was done; it was finished.\n",
       "3514  Yes, she thought, laying down her brush in ext...\n",
       "\n",
       "[3515 rows x 1 columns]"
      ]
     },
     "execution_count": 13,
     "metadata": {},
     "output_type": "execute_result"
    }
   ],
   "source": [
    "# To the Lighthouse (1927)\n",
    "to_the_lighthouse_url = 'http://gutenberg.net.au/ebooks01/0100101h.html'\n",
    "to_the_lighthouse = url_to_df(to_the_lighthouse_url)\n",
    "to_the_lighthouse['sentence'][0] = to_the_lighthouse['sentence'][0].replace('by', '', 1)\n",
    "to_the_lighthouse"
   ]
  },
  {
   "cell_type": "code",
   "execution_count": 14,
   "metadata": {},
   "outputs": [
    {
     "data": {
      "text/html": [
       "<div>\n",
       "<style scoped>\n",
       "    .dataframe tbody tr th:only-of-type {\n",
       "        vertical-align: middle;\n",
       "    }\n",
       "\n",
       "    .dataframe tbody tr th {\n",
       "        vertical-align: top;\n",
       "    }\n",
       "\n",
       "    .dataframe thead th {\n",
       "        text-align: right;\n",
       "    }\n",
       "</style>\n",
       "<table border=\"1\" class=\"dataframe\">\n",
       "  <thead>\n",
       "    <tr style=\"text-align: right;\">\n",
       "      <th></th>\n",
       "      <th>sentence</th>\n",
       "    </tr>\n",
       "  </thead>\n",
       "  <tbody>\n",
       "    <tr>\n",
       "      <td>0</td>\n",
       "      <td>He--for there could be no doubt of his sex, th...</td>\n",
       "    </tr>\n",
       "    <tr>\n",
       "      <td>1</td>\n",
       "      <td>It was the colour of an old football, and more...</td>\n",
       "    </tr>\n",
       "    <tr>\n",
       "      <td>2</td>\n",
       "      <td>Orlando's father, or perhaps his grandfather, ...</td>\n",
       "    </tr>\n",
       "    <tr>\n",
       "      <td>3</td>\n",
       "      <td>Orlando's fathers had ridden in fields of asph...</td>\n",
       "    </tr>\n",
       "    <tr>\n",
       "      <td>4</td>\n",
       "      <td>So too would Orlando, he vowed.</td>\n",
       "    </tr>\n",
       "    <tr>\n",
       "      <td>...</td>\n",
       "      <td>...</td>\n",
       "    </tr>\n",
       "    <tr>\n",
       "      <td>3407</td>\n",
       "      <td>Her pearls burnt like a phosphorescent flare i...</td>\n",
       "    </tr>\n",
       "    <tr>\n",
       "      <td>3408</td>\n",
       "      <td>And as Shelmerdine, now grown a fine sea capta...</td>\n",
       "    </tr>\n",
       "    <tr>\n",
       "      <td>3409</td>\n",
       "      <td>'It is the goose!</td>\n",
       "    </tr>\n",
       "    <tr>\n",
       "      <td>3410</td>\n",
       "      <td>' Orlando cried.</td>\n",
       "    </tr>\n",
       "    <tr>\n",
       "      <td>3411</td>\n",
       "      <td>'The wild goose...' And the twelfth stroke of ...</td>\n",
       "    </tr>\n",
       "  </tbody>\n",
       "</table>\n",
       "<p>3412 rows × 1 columns</p>\n",
       "</div>"
      ],
      "text/plain": [
       "                                               sentence\n",
       "0     He--for there could be no doubt of his sex, th...\n",
       "1     It was the colour of an old football, and more...\n",
       "2     Orlando's father, or perhaps his grandfather, ...\n",
       "3     Orlando's fathers had ridden in fields of asph...\n",
       "4                       So too would Orlando, he vowed.\n",
       "...                                                 ...\n",
       "3407  Her pearls burnt like a phosphorescent flare i...\n",
       "3408  And as Shelmerdine, now grown a fine sea capta...\n",
       "3409                                  'It is the goose!\n",
       "3410                                   ' Orlando cried.\n",
       "3411  'The wild goose...' And the twelfth stroke of ...\n",
       "\n",
       "[3412 rows x 1 columns]"
      ]
     },
     "execution_count": 14,
     "metadata": {},
     "output_type": "execute_result"
    }
   ],
   "source": [
    "# Orlando: A Biography (1928)\n",
    "orlando_url = 'http://gutenberg.net.au/ebooks02/0200331h.html'\n",
    "orlando = url_to_df(orlando_url).iloc[18:].reset_index(drop=True)\n",
    "orlando"
   ]
  },
  {
   "cell_type": "code",
   "execution_count": 15,
   "metadata": {},
   "outputs": [
    {
     "data": {
      "text/html": [
       "<div>\n",
       "<style scoped>\n",
       "    .dataframe tbody tr th:only-of-type {\n",
       "        vertical-align: middle;\n",
       "    }\n",
       "\n",
       "    .dataframe tbody tr th {\n",
       "        vertical-align: top;\n",
       "    }\n",
       "\n",
       "    .dataframe thead th {\n",
       "        text-align: right;\n",
       "    }\n",
       "</style>\n",
       "<table border=\"1\" class=\"dataframe\">\n",
       "  <thead>\n",
       "    <tr style=\"text-align: right;\">\n",
       "      <th></th>\n",
       "      <th>sentence</th>\n",
       "    </tr>\n",
       "  </thead>\n",
       "  <tbody>\n",
       "    <tr>\n",
       "      <td>0</td>\n",
       "      <td>Three years is a long time to leave a letter u...</td>\n",
       "    </tr>\n",
       "    <tr>\n",
       "      <td>1</td>\n",
       "      <td>I had hoped that it would answer itself, or th...</td>\n",
       "    </tr>\n",
       "    <tr>\n",
       "      <td>2</td>\n",
       "      <td>But there it is with its question--How in your...</td>\n",
       "    </tr>\n",
       "    <tr>\n",
       "      <td>3</td>\n",
       "      <td>--still unanswered.</td>\n",
       "    </tr>\n",
       "    <tr>\n",
       "      <td>4</td>\n",
       "      <td>It is true that many answers have suggested th...</td>\n",
       "    </tr>\n",
       "    <tr>\n",
       "      <td>...</td>\n",
       "      <td>...</td>\n",
       "    </tr>\n",
       "    <tr>\n",
       "      <td>3483</td>\n",
       "      <td>.</td>\n",
       "    </tr>\n",
       "    <tr>\n",
       "      <td>3484</td>\n",
       "      <td>Cette individualité n'a par elle seule ni sign...</td>\n",
       "    </tr>\n",
       "    <tr>\n",
       "      <td>3485</td>\n",
       "      <td>Elle ne prend un sens quelconque qu'en devenan...</td>\n",
       "    </tr>\n",
       "    <tr>\n",
       "      <td>3486</td>\n",
       "      <td>' (  by George Sand, pp.</td>\n",
       "    </tr>\n",
       "    <tr>\n",
       "      <td>3487</td>\n",
       "      <td>240-41.</td>\n",
       "    </tr>\n",
       "  </tbody>\n",
       "</table>\n",
       "<p>3488 rows × 1 columns</p>\n",
       "</div>"
      ],
      "text/plain": [
       "                                               sentence\n",
       "0     Three years is a long time to leave a letter u...\n",
       "1     I had hoped that it would answer itself, or th...\n",
       "2     But there it is with its question--How in your...\n",
       "3                                   --still unanswered.\n",
       "4     It is true that many answers have suggested th...\n",
       "...                                                 ...\n",
       "3483                                                  .\n",
       "3484  Cette individualité n'a par elle seule ni sign...\n",
       "3485  Elle ne prend un sens quelconque qu'en devenan...\n",
       "3486                           ' (  by George Sand, pp.\n",
       "3487                                            240-41.\n",
       "\n",
       "[3488 rows x 1 columns]"
      ]
     },
     "execution_count": 15,
     "metadata": {},
     "output_type": "execute_result"
    }
   ],
   "source": [
    "# Three Guineas (1938)\n",
    "three_guineas_url = 'http://gutenberg.net.au/ebooks02/0200931h.html'\n",
    "three_guineas = url_to_df(three_guineas_url)\n",
    "three_guineas"
   ]
  },
  {
   "cell_type": "code",
   "execution_count": 16,
   "metadata": {},
   "outputs": [
    {
     "data": {
      "text/html": [
       "<div>\n",
       "<style scoped>\n",
       "    .dataframe tbody tr th:only-of-type {\n",
       "        vertical-align: middle;\n",
       "    }\n",
       "\n",
       "    .dataframe tbody tr th {\n",
       "        vertical-align: top;\n",
       "    }\n",
       "\n",
       "    .dataframe thead th {\n",
       "        text-align: right;\n",
       "    }\n",
       "</style>\n",
       "<table border=\"1\" class=\"dataframe\">\n",
       "  <thead>\n",
       "    <tr style=\"text-align: right;\">\n",
       "      <th></th>\n",
       "      <th>sentence</th>\n",
       "    </tr>\n",
       "  </thead>\n",
       "  <tbody>\n",
       "    <tr>\n",
       "      <td>0</td>\n",
       "      <td>It was a summer's night and they were talking,...</td>\n",
       "    </tr>\n",
       "    <tr>\n",
       "      <td>1</td>\n",
       "      <td>The county council had promised to bring water...</td>\n",
       "    </tr>\n",
       "    <tr>\n",
       "      <td>2</td>\n",
       "      <td>Mrs. Haines, the wife of the gentleman farmer,...</td>\n",
       "    </tr>\n",
       "    <tr>\n",
       "      <td>3</td>\n",
       "      <td>Then there was silence; and a cow coughed; and...</td>\n",
       "    </tr>\n",
       "    <tr>\n",
       "      <td>4</td>\n",
       "      <td>But, then, as a small child in a perambulator,...</td>\n",
       "    </tr>\n",
       "    <tr>\n",
       "      <td>...</td>\n",
       "      <td>...</td>\n",
       "    </tr>\n",
       "    <tr>\n",
       "      <td>4455</td>\n",
       "      <td>The house had lost its shelter.</td>\n",
       "    </tr>\n",
       "    <tr>\n",
       "      <td>4456</td>\n",
       "      <td>It was night before roads were made, or houses.</td>\n",
       "    </tr>\n",
       "    <tr>\n",
       "      <td>4457</td>\n",
       "      <td>It was the night that dwellers in caves had wa...</td>\n",
       "    </tr>\n",
       "    <tr>\n",
       "      <td>4458</td>\n",
       "      <td>Then the curtain rose.</td>\n",
       "    </tr>\n",
       "    <tr>\n",
       "      <td>4459</td>\n",
       "      <td>They spoke.</td>\n",
       "    </tr>\n",
       "  </tbody>\n",
       "</table>\n",
       "<p>4460 rows × 1 columns</p>\n",
       "</div>"
      ],
      "text/plain": [
       "                                               sentence\n",
       "0     It was a summer's night and they were talking,...\n",
       "1     The county council had promised to bring water...\n",
       "2     Mrs. Haines, the wife of the gentleman farmer,...\n",
       "3     Then there was silence; and a cow coughed; and...\n",
       "4     But, then, as a small child in a perambulator,...\n",
       "...                                                 ...\n",
       "4455                    The house had lost its shelter.\n",
       "4456    It was night before roads were made, or houses.\n",
       "4457  It was the night that dwellers in caves had wa...\n",
       "4458                             Then the curtain rose.\n",
       "4459                                        They spoke.\n",
       "\n",
       "[4460 rows x 1 columns]"
      ]
     },
     "execution_count": 16,
     "metadata": {},
     "output_type": "execute_result"
    }
   ],
   "source": [
    "# Between the Acts (1941)\n",
    "between_the_acts_url = 'http://gutenberg.net.au/ebooks03/0301171h.html'\n",
    "between_the_acts = url_to_df(between_the_acts_url)\n",
    "between_the_acts"
   ]
  },
  {
   "cell_type": "code",
   "execution_count": 17,
   "metadata": {},
   "outputs": [
    {
     "data": {
      "text/html": [
       "<div>\n",
       "<style scoped>\n",
       "    .dataframe tbody tr th:only-of-type {\n",
       "        vertical-align: middle;\n",
       "    }\n",
       "\n",
       "    .dataframe tbody tr th {\n",
       "        vertical-align: top;\n",
       "    }\n",
       "\n",
       "    .dataframe thead th {\n",
       "        text-align: right;\n",
       "    }\n",
       "</style>\n",
       "<table border=\"1\" class=\"dataframe\">\n",
       "  <thead>\n",
       "    <tr style=\"text-align: right;\">\n",
       "      <th></th>\n",
       "      <th>sentence</th>\n",
       "    </tr>\n",
       "  </thead>\n",
       "  <tbody>\n",
       "    <tr>\n",
       "      <td>0</td>\n",
       "      <td>From room to room they went, hand in hand, lif...</td>\n",
       "    </tr>\n",
       "    <tr>\n",
       "      <td>1</td>\n",
       "      <td>\"Here we left it,\" she said.</td>\n",
       "    </tr>\n",
       "    <tr>\n",
       "      <td>2</td>\n",
       "      <td>And he added, \"Oh, but here too\"!</td>\n",
       "    </tr>\n",
       "    <tr>\n",
       "      <td>3</td>\n",
       "      <td>\"It's upstairs,\" she murmured.</td>\n",
       "    </tr>\n",
       "    <tr>\n",
       "      <td>4</td>\n",
       "      <td>\"And in the garden,\" he whispered.</td>\n",
       "    </tr>\n",
       "    <tr>\n",
       "      <td>...</td>\n",
       "      <td>...</td>\n",
       "    </tr>\n",
       "    <tr>\n",
       "      <td>1167</td>\n",
       "      <td>Nothing ever happens.</td>\n",
       "    </tr>\n",
       "    <tr>\n",
       "      <td>1168</td>\n",
       "      <td>Curse this war; God damn this war!</td>\n",
       "    </tr>\n",
       "    <tr>\n",
       "      <td>1169</td>\n",
       "      <td>... All the same, I don't see why we should ha...</td>\n",
       "    </tr>\n",
       "    <tr>\n",
       "      <td>1170</td>\n",
       "      <td>Ah, the mark on the wall!</td>\n",
       "    </tr>\n",
       "    <tr>\n",
       "      <td>1171</td>\n",
       "      <td>It was a snail.</td>\n",
       "    </tr>\n",
       "  </tbody>\n",
       "</table>\n",
       "<p>1172 rows × 1 columns</p>\n",
       "</div>"
      ],
      "text/plain": [
       "                                               sentence\n",
       "0     From room to room they went, hand in hand, lif...\n",
       "1                          \"Here we left it,\" she said.\n",
       "2                     And he added, \"Oh, but here too\"!\n",
       "3                        \"It's upstairs,\" she murmured.\n",
       "4                    \"And in the garden,\" he whispered.\n",
       "...                                                 ...\n",
       "1167                              Nothing ever happens.\n",
       "1168                 Curse this war; God damn this war!\n",
       "1169  ... All the same, I don't see why we should ha...\n",
       "1170                          Ah, the mark on the wall!\n",
       "1171                                    It was a snail.\n",
       "\n",
       "[1172 rows x 1 columns]"
      ]
     },
     "execution_count": 17,
     "metadata": {},
     "output_type": "execute_result"
    }
   ],
   "source": [
    "# The Mark on the Wall (1917)\n",
    "mark_on_the_wall_url = 'http://www.gutenberg.org/files/29220/29220-h/29220-h.htm#THE_MARK_ON_THE_WALL'\n",
    "mark_on_the_wall = url_to_df(mark_on_the_wall_url).iloc[2:].reset_index(drop=True)\n",
    "mark_on_the_wall"
   ]
  },
  {
   "cell_type": "code",
   "execution_count": 18,
   "metadata": {},
   "outputs": [
    {
     "data": {
      "text/html": [
       "<div>\n",
       "<style scoped>\n",
       "    .dataframe tbody tr th:only-of-type {\n",
       "        vertical-align: middle;\n",
       "    }\n",
       "\n",
       "    .dataframe tbody tr th {\n",
       "        vertical-align: top;\n",
       "    }\n",
       "\n",
       "    .dataframe thead th {\n",
       "        text-align: right;\n",
       "    }\n",
       "</style>\n",
       "<table border=\"1\" class=\"dataframe\">\n",
       "  <thead>\n",
       "    <tr style=\"text-align: right;\">\n",
       "      <th></th>\n",
       "      <th>sentence</th>\n",
       "    </tr>\n",
       "  </thead>\n",
       "  <tbody>\n",
       "    <tr>\n",
       "      <td>0</td>\n",
       "      <td>It was a Sunday evening in October, and in com...</td>\n",
       "    </tr>\n",
       "    <tr>\n",
       "      <td>1</td>\n",
       "      <td>Perhaps a fifth part of her mind was thus occu...</td>\n",
       "    </tr>\n",
       "    <tr>\n",
       "      <td>2</td>\n",
       "      <td>But although she was silent, she was evidently...</td>\n",
       "    </tr>\n",
       "    <tr>\n",
       "      <td>3</td>\n",
       "      <td>A single glance was enough to show that Mrs. H...</td>\n",
       "    </tr>\n",
       "    <tr>\n",
       "      <td>4</td>\n",
       "      <td>Considering that the little party had been sea...</td>\n",
       "    </tr>\n",
       "    <tr>\n",
       "      <td>...</td>\n",
       "      <td>...</td>\n",
       "    </tr>\n",
       "    <tr>\n",
       "      <td>9294</td>\n",
       "      <td>Katharine pushed the door half open and stood ...</td>\n",
       "    </tr>\n",
       "    <tr>\n",
       "      <td>9295</td>\n",
       "      <td>The light lay in soft golden grains upon the d...</td>\n",
       "    </tr>\n",
       "    <tr>\n",
       "      <td>9296</td>\n",
       "      <td>For a moment they waited, and then loosed thei...</td>\n",
       "    </tr>\n",
       "    <tr>\n",
       "      <td>9297</td>\n",
       "      <td>\"Good night,\" he breathed.</td>\n",
       "    </tr>\n",
       "    <tr>\n",
       "      <td>9298</td>\n",
       "      <td>\"Good night,\" she murmured back to him.</td>\n",
       "    </tr>\n",
       "  </tbody>\n",
       "</table>\n",
       "<p>9299 rows × 1 columns</p>\n",
       "</div>"
      ],
      "text/plain": [
       "                                               sentence\n",
       "0     It was a Sunday evening in October, and in com...\n",
       "1     Perhaps a fifth part of her mind was thus occu...\n",
       "2     But although she was silent, she was evidently...\n",
       "3     A single glance was enough to show that Mrs. H...\n",
       "4     Considering that the little party had been sea...\n",
       "...                                                 ...\n",
       "9294  Katharine pushed the door half open and stood ...\n",
       "9295  The light lay in soft golden grains upon the d...\n",
       "9296  For a moment they waited, and then loosed thei...\n",
       "9297                         \"Good night,\" he breathed.\n",
       "9298            \"Good night,\" she murmured back to him.\n",
       "\n",
       "[9299 rows x 1 columns]"
      ]
     },
     "execution_count": 18,
     "metadata": {},
     "output_type": "execute_result"
    }
   ],
   "source": [
    "# Night and Day (1919)\n",
    "night_day_url = 'http://gutenberg.net.au/ebooks/m00019.txt'\n",
    "night_day = txt_to_df(night_day_url)\n",
    "night_day['sentence'][0] = night_day['sentence'][0].replace('Project Gutenberg Australia    Night and Day by Virginia Woolf   TO VANESSA BELL BUT, LOOKING FOR A PHRASE, I FOUND NONE TO STAND BESIDE YOUR NAME      NIGHT AND DAY    CHAPTER I  ', '', 1)\n",
    "night_day"
   ]
  },
  {
   "cell_type": "code",
   "execution_count": 19,
   "metadata": {},
   "outputs": [
    {
     "data": {
      "text/html": [
       "<div>\n",
       "<style scoped>\n",
       "    .dataframe tbody tr th:only-of-type {\n",
       "        vertical-align: middle;\n",
       "    }\n",
       "\n",
       "    .dataframe tbody tr th {\n",
       "        vertical-align: top;\n",
       "    }\n",
       "\n",
       "    .dataframe thead th {\n",
       "        text-align: right;\n",
       "    }\n",
       "</style>\n",
       "<table border=\"1\" class=\"dataframe\">\n",
       "  <thead>\n",
       "    <tr style=\"text-align: right;\">\n",
       "      <th></th>\n",
       "      <th>sentence</th>\n",
       "    </tr>\n",
       "  </thead>\n",
       "  <tbody>\n",
       "    <tr>\n",
       "      <td>0</td>\n",
       "      <td>au  ------------------------------------------...</td>\n",
       "    </tr>\n",
       "    <tr>\n",
       "      <td>1</td>\n",
       "      <td>The papers were too long to be read in full, a...</td>\n",
       "    </tr>\n",
       "    <tr>\n",
       "      <td>2</td>\n",
       "      <td>]    ONE    But, you may say, we asked you to ...</td>\n",
       "    </tr>\n",
       "    <tr>\n",
       "      <td>3</td>\n",
       "      <td>I will try to explain.</td>\n",
       "    </tr>\n",
       "    <tr>\n",
       "      <td>4</td>\n",
       "      <td>When you asked me to speak about women and fic...</td>\n",
       "    </tr>\n",
       "    <tr>\n",
       "      <td>...</td>\n",
       "      <td>...</td>\n",
       "    </tr>\n",
       "    <tr>\n",
       "      <td>1585</td>\n",
       "      <td>This opportunity, as I think, it is now coming...</td>\n",
       "    </tr>\n",
       "    <tr>\n",
       "      <td>1586</td>\n",
       "      <td>For my belief is that if we live another centu...</td>\n",
       "    </tr>\n",
       "    <tr>\n",
       "      <td>1587</td>\n",
       "      <td>Drawing her life from the lives of the unknown...</td>\n",
       "    </tr>\n",
       "    <tr>\n",
       "      <td>1588</td>\n",
       "      <td>As for her coming without that preparation, wi...</td>\n",
       "    </tr>\n",
       "    <tr>\n",
       "      <td>1589</td>\n",
       "      <td>But I maintain that she would come if we worke...</td>\n",
       "    </tr>\n",
       "  </tbody>\n",
       "</table>\n",
       "<p>1590 rows × 1 columns</p>\n",
       "</div>"
      ],
      "text/plain": [
       "                                               sentence\n",
       "0     au  ------------------------------------------...\n",
       "1     The papers were too long to be read in full, a...\n",
       "2     ]    ONE    But, you may say, we asked you to ...\n",
       "3                                I will try to explain.\n",
       "4     When you asked me to speak about women and fic...\n",
       "...                                                 ...\n",
       "1585  This opportunity, as I think, it is now coming...\n",
       "1586  For my belief is that if we live another centu...\n",
       "1587  Drawing her life from the lives of the unknown...\n",
       "1588  As for her coming without that preparation, wi...\n",
       "1589  But I maintain that she would come if we worke...\n",
       "\n",
       "[1590 rows x 1 columns]"
      ]
     },
     "execution_count": 19,
     "metadata": {},
     "output_type": "execute_result"
    }
   ],
   "source": [
    "# A Room of One's Own (1929)\n",
    "room_of_ones_own_url = 'http://gutenberg.net.au/ebooks02/0200791.txt'\n",
    "room_of_ones_own = txt_to_df(room_of_ones_own_url).iloc[15:].reset_index(drop=True)\n",
    "room_of_ones_own['sentence'][0] = room_of_ones_own['sentence'][0].replace(']    ONE    ', '', 1)\n",
    "room_of_ones_own"
   ]
  },
  {
   "cell_type": "code",
   "execution_count": 20,
   "metadata": {},
   "outputs": [
    {
     "data": {
      "text/html": [
       "<div>\n",
       "<style scoped>\n",
       "    .dataframe tbody tr th:only-of-type {\n",
       "        vertical-align: middle;\n",
       "    }\n",
       "\n",
       "    .dataframe tbody tr th {\n",
       "        vertical-align: top;\n",
       "    }\n",
       "\n",
       "    .dataframe thead th {\n",
       "        text-align: right;\n",
       "    }\n",
       "</style>\n",
       "<table border=\"1\" class=\"dataframe\">\n",
       "  <thead>\n",
       "    <tr style=\"text-align: right;\">\n",
       "      <th></th>\n",
       "      <th>sentence</th>\n",
       "    </tr>\n",
       "  </thead>\n",
       "  <tbody>\n",
       "    <tr>\n",
       "      <td>0</td>\n",
       "      <td>\"So of course,\" wrote Betty Flanders, pressing...</td>\n",
       "    </tr>\n",
       "    <tr>\n",
       "      <td>1</td>\n",
       "      <td>Slowly welling from the point of her gold nib,...</td>\n",
       "    </tr>\n",
       "    <tr>\n",
       "      <td>2</td>\n",
       "      <td>The entire bay quivered; the lighthouse wobble...</td>\n",
       "    </tr>\n",
       "    <tr>\n",
       "      <td>3</td>\n",
       "      <td>She winked quickly.</td>\n",
       "    </tr>\n",
       "    <tr>\n",
       "      <td>4</td>\n",
       "      <td>Accidents were awful things.</td>\n",
       "    </tr>\n",
       "    <tr>\n",
       "      <td>...</td>\n",
       "      <td>...</td>\n",
       "    </tr>\n",
       "    <tr>\n",
       "      <td>3431</td>\n",
       "      <td>\"Such confusion everywhere\"!</td>\n",
       "    </tr>\n",
       "    <tr>\n",
       "      <td>3432</td>\n",
       "      <td>exclaimed Betty Flanders, bursting open the be...</td>\n",
       "    </tr>\n",
       "    <tr>\n",
       "      <td>3433</td>\n",
       "      <td>Bonamy turned away from the window.</td>\n",
       "    </tr>\n",
       "    <tr>\n",
       "      <td>3434</td>\n",
       "      <td>\"What am I to do with these, Mr. Bonamy\"?</td>\n",
       "    </tr>\n",
       "    <tr>\n",
       "      <td>3435</td>\n",
       "      <td>She held out a pair of Jacob's old shoes.</td>\n",
       "    </tr>\n",
       "  </tbody>\n",
       "</table>\n",
       "<p>3436 rows × 1 columns</p>\n",
       "</div>"
      ],
      "text/plain": [
       "                                               sentence\n",
       "0     \"So of course,\" wrote Betty Flanders, pressing...\n",
       "1     Slowly welling from the point of her gold nib,...\n",
       "2     The entire bay quivered; the lighthouse wobble...\n",
       "3                                   She winked quickly.\n",
       "4                          Accidents were awful things.\n",
       "...                                                 ...\n",
       "3431                       \"Such confusion everywhere\"!\n",
       "3432  exclaimed Betty Flanders, bursting open the be...\n",
       "3433                Bonamy turned away from the window.\n",
       "3434          \"What am I to do with these, Mr. Bonamy\"?\n",
       "3435          She held out a pair of Jacob's old shoes.\n",
       "\n",
       "[3436 rows x 1 columns]"
      ]
     },
     "execution_count": 20,
     "metadata": {},
     "output_type": "execute_result"
    }
   ],
   "source": [
    "# Jacob's Room (1922)\n",
    "jacobs_room_url = 'http://gutenberg.net.au/ebooks/m00018.txt'\n",
    "jacobs_room = txt_to_df(jacobs_room_url)\n",
    "jacobs_room['sentence'][0] = jacobs_room['sentence'][0].strip('Project Gutenberg Australia    Jacob\\'s Room by Virginia Woolf     CHAPTER ONE   ')\n",
    "jacobs_room"
   ]
  },
  {
   "cell_type": "markdown",
   "metadata": {},
   "source": [
    "A handful of texts, particularly the short stories and essays, prove more challenging to extract. For example, \"Street Haunting\" is problematic because of its position halfway down the page. These texts are dealt with here on a case by case basis, using the .split() function to manually find the locations to start extraction."
   ]
  },
  {
   "cell_type": "code",
   "execution_count": 21,
   "metadata": {},
   "outputs": [
    {
     "data": {
      "text/html": [
       "<div>\n",
       "<style scoped>\n",
       "    .dataframe tbody tr th:only-of-type {\n",
       "        vertical-align: middle;\n",
       "    }\n",
       "\n",
       "    .dataframe tbody tr th {\n",
       "        vertical-align: top;\n",
       "    }\n",
       "\n",
       "    .dataframe thead th {\n",
       "        text-align: right;\n",
       "    }\n",
       "</style>\n",
       "<table border=\"1\" class=\"dataframe\">\n",
       "  <thead>\n",
       "    <tr style=\"text-align: right;\">\n",
       "      <th></th>\n",
       "      <th>sentence</th>\n",
       "    </tr>\n",
       "  </thead>\n",
       "  <tbody>\n",
       "    <tr>\n",
       "      <td>0</td>\n",
       "      <td>No one perhaps has ever felt passionately towa...</td>\n",
       "    </tr>\n",
       "    <tr>\n",
       "      <td>1</td>\n",
       "      <td>But there are circumstances in which it can be...</td>\n",
       "    </tr>\n",
       "    <tr>\n",
       "      <td>2</td>\n",
       "      <td>As the foxhunter hunts in order to preserve th...</td>\n",
       "    </tr>\n",
       "    <tr>\n",
       "      <td>3</td>\n",
       "      <td>The hour should be the evening and the season ...</td>\n",
       "    </tr>\n",
       "    <tr>\n",
       "      <td>4</td>\n",
       "      <td>We are not then taunted as in the summer by th...</td>\n",
       "    </tr>\n",
       "    <tr>\n",
       "      <td>...</td>\n",
       "      <td>...</td>\n",
       "    </tr>\n",
       "    <tr>\n",
       "      <td>195</td>\n",
       "      <td>And what greater delight and wonder can there ...</td>\n",
       "    </tr>\n",
       "    <tr>\n",
       "      <td>196</td>\n",
       "      <td>That is true: to escape is the greatest of ple...</td>\n",
       "    </tr>\n",
       "    <tr>\n",
       "      <td>197</td>\n",
       "      <td>Still as we approach our own doorstep again, i...</td>\n",
       "    </tr>\n",
       "    <tr>\n",
       "      <td>198</td>\n",
       "      <td>Here again is the usual door; here the chair t...</td>\n",
       "    </tr>\n",
       "    <tr>\n",
       "      <td>199</td>\n",
       "      <td>And here--let us examine it tenderly, let us t...</td>\n",
       "    </tr>\n",
       "  </tbody>\n",
       "</table>\n",
       "<p>200 rows × 1 columns</p>\n",
       "</div>"
      ],
      "text/plain": [
       "                                              sentence\n",
       "0    No one perhaps has ever felt passionately towa...\n",
       "1    But there are circumstances in which it can be...\n",
       "2    As the foxhunter hunts in order to preserve th...\n",
       "3    The hour should be the evening and the season ...\n",
       "4    We are not then taunted as in the summer by th...\n",
       "..                                                 ...\n",
       "195  And what greater delight and wonder can there ...\n",
       "196  That is true: to escape is the greatest of ple...\n",
       "197  Still as we approach our own doorstep again, i...\n",
       "198  Here again is the usual door; here the chair t...\n",
       "199  And here--let us examine it tenderly, let us t...\n",
       "\n",
       "[200 rows x 1 columns]"
      ]
     },
     "execution_count": 21,
     "metadata": {},
     "output_type": "execute_result"
    }
   ],
   "source": [
    "# Street Haunting (1930)\n",
    "street_haunting_url = 'http://gutenberg.net.au/ebooks02/0200771.txt'\n",
    "book = requests.get(street_haunting_url).text\n",
    "x = book.split('STREET HAUNTING: A LONDON ADVENTURE (Written in 1930.)')[1].split('JONES AND WILKINSON(Drawn from the MEMOIRS OF TATE WILKINSON,4 vols.,1790.)')[0]\n",
    "street_haunting = pd.DataFrame(extract_sentences(x)).rename(columns={0: 'sentence'})\n",
    "street_haunting"
   ]
  },
  {
   "cell_type": "code",
   "execution_count": 22,
   "metadata": {},
   "outputs": [
    {
     "data": {
      "text/html": [
       "<div>\n",
       "<style scoped>\n",
       "    .dataframe tbody tr th:only-of-type {\n",
       "        vertical-align: middle;\n",
       "    }\n",
       "\n",
       "    .dataframe tbody tr th {\n",
       "        vertical-align: top;\n",
       "    }\n",
       "\n",
       "    .dataframe thead th {\n",
       "        text-align: right;\n",
       "    }\n",
       "</style>\n",
       "<table border=\"1\" class=\"dataframe\">\n",
       "  <thead>\n",
       "    <tr style=\"text-align: right;\">\n",
       "      <th></th>\n",
       "      <th>sentence</th>\n",
       "    </tr>\n",
       "  </thead>\n",
       "  <tbody>\n",
       "    <tr>\n",
       "      <td>0</td>\n",
       "      <td>From the oval-shaped flower-bed there rose per...</td>\n",
       "    </tr>\n",
       "    <tr>\n",
       "      <td>1</td>\n",
       "      <td>The petals were voluminous enough to be stirre...</td>\n",
       "    </tr>\n",
       "    <tr>\n",
       "      <td>2</td>\n",
       "      <td>The light fell either upon the smooth, grey ba...</td>\n",
       "    </tr>\n",
       "    <tr>\n",
       "      <td>3</td>\n",
       "      <td>Instead, the drop was left in a second silver ...</td>\n",
       "    </tr>\n",
       "    <tr>\n",
       "      <td>4</td>\n",
       "      <td>Then the breeze stirred rather more briskly ov...</td>\n",
       "    </tr>\n",
       "    <tr>\n",
       "      <td>...</td>\n",
       "      <td>...</td>\n",
       "    </tr>\n",
       "    <tr>\n",
       "      <td>86</td>\n",
       "      <td>It seemed as if all gross and heavy bodies had...</td>\n",
       "    </tr>\n",
       "    <tr>\n",
       "      <td>87</td>\n",
       "      <td>Voices.</td>\n",
       "    </tr>\n",
       "    <tr>\n",
       "      <td>88</td>\n",
       "      <td>Yes, voices.</td>\n",
       "    </tr>\n",
       "    <tr>\n",
       "      <td>89</td>\n",
       "      <td>Wordless voices, breaking the silence suddenly...</td>\n",
       "    </tr>\n",
       "    <tr>\n",
       "      <td>90</td>\n",
       "      <td>But there was no silence; all the time the mot...</td>\n",
       "    </tr>\n",
       "  </tbody>\n",
       "</table>\n",
       "<p>91 rows × 1 columns</p>\n",
       "</div>"
      ],
      "text/plain": [
       "                                             sentence\n",
       "0   From the oval-shaped flower-bed there rose per...\n",
       "1   The petals were voluminous enough to be stirre...\n",
       "2   The light fell either upon the smooth, grey ba...\n",
       "3   Instead, the drop was left in a second silver ...\n",
       "4   Then the breeze stirred rather more briskly ov...\n",
       "..                                                ...\n",
       "86  It seemed as if all gross and heavy bodies had...\n",
       "87                                            Voices.\n",
       "88                                       Yes, voices.\n",
       "89  Wordless voices, breaking the silence suddenly...\n",
       "90  But there was no silence; all the time the mot...\n",
       "\n",
       "[91 rows x 1 columns]"
      ]
     },
     "execution_count": 22,
     "metadata": {},
     "output_type": "execute_result"
    }
   ],
   "source": [
    "# Kew Gardens (1919)\n",
    "kew_gardens_url = 'http://www.gutenberg.org/files/29220/29220-h/29220-h.htm#KEW_GARDENS'\n",
    "book = text_from_url(kew_gardens_url)\n",
    "x = book.split('A wave\\r\\nrolls beneath the blue bells. But the cathedral\\'s different, cold,\\r\\nincense laden, faint blue with the veils of madonnas.')[1]\n",
    "kew_gardens = pd.DataFrame(extract_sentences(x)).rename(columns={0: 'sentence'})[:91].reset_index(drop = True)\n",
    "kew_gardens"
   ]
  },
  {
   "cell_type": "code",
   "execution_count": 23,
   "metadata": {},
   "outputs": [
    {
     "data": {
      "text/html": [
       "<div>\n",
       "<style scoped>\n",
       "    .dataframe tbody tr th:only-of-type {\n",
       "        vertical-align: middle;\n",
       "    }\n",
       "\n",
       "    .dataframe tbody tr th {\n",
       "        vertical-align: top;\n",
       "    }\n",
       "\n",
       "    .dataframe thead th {\n",
       "        text-align: right;\n",
       "    }\n",
       "</style>\n",
       "<table border=\"1\" class=\"dataframe\">\n",
       "  <thead>\n",
       "    <tr style=\"text-align: right;\">\n",
       "      <th></th>\n",
       "      <th>sentence</th>\n",
       "    </tr>\n",
       "  </thead>\n",
       "  <tbody>\n",
       "    <tr>\n",
       "      <td>0</td>\n",
       "      <td>In making any survey, even the freest and loos...</td>\n",
       "    </tr>\n",
       "    <tr>\n",
       "      <td>1</td>\n",
       "      <td>With their simple tools and primitive material...</td>\n",
       "    </tr>\n",
       "    <tr>\n",
       "      <td>2</td>\n",
       "      <td>Their masterpieces certainly have a strange ai...</td>\n",
       "    </tr>\n",
       "    <tr>\n",
       "      <td>3</td>\n",
       "      <td>And yet the analogy between literature and the...</td>\n",
       "    </tr>\n",
       "    <tr>\n",
       "      <td>4</td>\n",
       "      <td>It is doubtful whether in the course of the ce...</td>\n",
       "    </tr>\n",
       "    <tr>\n",
       "      <td>...</td>\n",
       "      <td>...</td>\n",
       "    </tr>\n",
       "    <tr>\n",
       "      <td>99</td>\n",
       "      <td>The voice of protest is the voice of another a...</td>\n",
       "    </tr>\n",
       "    <tr>\n",
       "      <td>100</td>\n",
       "      <td>English fiction from Sterne to Meredith bears ...</td>\n",
       "    </tr>\n",
       "    <tr>\n",
       "      <td>101</td>\n",
       "      <td>But any deductions that we may draw from the c...</td>\n",
       "    </tr>\n",
       "    <tr>\n",
       "      <td>102</td>\n",
       "      <td>\"The proper stuff of fiction\" does not exist; ...</td>\n",
       "    </tr>\n",
       "    <tr>\n",
       "      <td>103</td>\n",
       "      <td>And if we can imagine the art of fiction come ...</td>\n",
       "    </tr>\n",
       "  </tbody>\n",
       "</table>\n",
       "<p>104 rows × 1 columns</p>\n",
       "</div>"
      ],
      "text/plain": [
       "                                              sentence\n",
       "0    In making any survey, even the freest and loos...\n",
       "1    With their simple tools and primitive material...\n",
       "2    Their masterpieces certainly have a strange ai...\n",
       "3    And yet the analogy between literature and the...\n",
       "4    It is doubtful whether in the course of the ce...\n",
       "..                                                 ...\n",
       "99   The voice of protest is the voice of another a...\n",
       "100  English fiction from Sterne to Meredith bears ...\n",
       "101  But any deductions that we may draw from the c...\n",
       "102  \"The proper stuff of fiction\" does not exist; ...\n",
       "103  And if we can imagine the art of fiction come ...\n",
       "\n",
       "[104 rows x 1 columns]"
      ]
     },
     "execution_count": 23,
     "metadata": {},
     "output_type": "execute_result"
    }
   ],
   "source": [
    "# Modern Fiction (1921)\n",
    "modern_fiction_url = 'http://gutenberg.net.au/ebooks03/0300031h.html#C12'\n",
    "book = text_from_url(modern_fiction_url)\n",
    "x = book.split('confidence in her own success')[1].split('confidence in her own success')[0]\n",
    "modern_fiction = pd.DataFrame(extract_sentences(x)).rename(columns={0: 'sentence'})[1:105].reset_index(drop=True)\n",
    "modern_fiction"
   ]
  },
  {
   "cell_type": "code",
   "execution_count": 24,
   "metadata": {},
   "outputs": [
    {
     "data": {
      "text/html": [
       "<div>\n",
       "<style scoped>\n",
       "    .dataframe tbody tr th:only-of-type {\n",
       "        vertical-align: middle;\n",
       "    }\n",
       "\n",
       "    .dataframe tbody tr th {\n",
       "        vertical-align: top;\n",
       "    }\n",
       "\n",
       "    .dataframe thead th {\n",
       "        text-align: right;\n",
       "    }\n",
       "</style>\n",
       "<table border=\"1\" class=\"dataframe\">\n",
       "  <thead>\n",
       "    <tr style=\"text-align: right;\">\n",
       "      <th></th>\n",
       "      <th>sentence</th>\n",
       "    </tr>\n",
       "  </thead>\n",
       "  <tbody>\n",
       "    <tr>\n",
       "      <td>0</td>\n",
       "      <td>It was an uncertain spring.</td>\n",
       "    </tr>\n",
       "    <tr>\n",
       "      <td>1</td>\n",
       "      <td>The weather, perpetually changing, sent clouds...</td>\n",
       "    </tr>\n",
       "    <tr>\n",
       "      <td>2</td>\n",
       "      <td>In the country farmers, looking at the fields,...</td>\n",
       "    </tr>\n",
       "    <tr>\n",
       "      <td>3</td>\n",
       "      <td>But in April such weather was to be expected.</td>\n",
       "    </tr>\n",
       "    <tr>\n",
       "      <td>4</td>\n",
       "      <td>Thousands of shop assistants made that remark,...</td>\n",
       "    </tr>\n",
       "    <tr>\n",
       "      <td>...</td>\n",
       "      <td>...</td>\n",
       "    </tr>\n",
       "    <tr>\n",
       "      <td>13518</td>\n",
       "      <td>\"And now\"?</td>\n",
       "    </tr>\n",
       "    <tr>\n",
       "      <td>13519</td>\n",
       "      <td>she said, looking at Morris, who was drinking ...</td>\n",
       "    </tr>\n",
       "    <tr>\n",
       "      <td>13520</td>\n",
       "      <td>\"And now\"?</td>\n",
       "    </tr>\n",
       "    <tr>\n",
       "      <td>13521</td>\n",
       "      <td>she asked, holding out her hands to him.</td>\n",
       "    </tr>\n",
       "    <tr>\n",
       "      <td>13522</td>\n",
       "      <td>The sun had risen, and the sky above the house...</td>\n",
       "    </tr>\n",
       "  </tbody>\n",
       "</table>\n",
       "<p>13523 rows × 1 columns</p>\n",
       "</div>"
      ],
      "text/plain": [
       "                                                sentence\n",
       "0                            It was an uncertain spring.\n",
       "1      The weather, perpetually changing, sent clouds...\n",
       "2      In the country farmers, looking at the fields,...\n",
       "3          But in April such weather was to be expected.\n",
       "4      Thousands of shop assistants made that remark,...\n",
       "...                                                  ...\n",
       "13518                                         \"And now\"?\n",
       "13519  she said, looking at Morris, who was drinking ...\n",
       "13520                                         \"And now\"?\n",
       "13521           she asked, holding out her hands to him.\n",
       "13522  The sun had risen, and the sky above the house...\n",
       "\n",
       "[13523 rows x 1 columns]"
      ]
     },
     "execution_count": 24,
     "metadata": {},
     "output_type": "execute_result"
    }
   ],
   "source": [
    "# The Years (1937)\n",
    "the_years_url = 'http://gutenberg.net.au/ebooks03/0301221h.html'\n",
    "the_years = url_to_df(the_years_url).reset_index(drop=True)\n",
    "the_years"
   ]
  },
  {
   "cell_type": "markdown",
   "metadata": {},
   "source": [
    "We cannot use the same function as the one above for <em>The Waves</em>, as it has a sizeable introductory portion in italics, which the function above is programmed to cut out. Below, I extract the textfield from the site manually and then put each sentence into the dataframe."
   ]
  },
  {
   "cell_type": "code",
   "execution_count": 25,
   "metadata": {},
   "outputs": [
    {
     "data": {
      "text/html": [
       "<div>\n",
       "<style scoped>\n",
       "    .dataframe tbody tr th:only-of-type {\n",
       "        vertical-align: middle;\n",
       "    }\n",
       "\n",
       "    .dataframe tbody tr th {\n",
       "        vertical-align: top;\n",
       "    }\n",
       "\n",
       "    .dataframe thead th {\n",
       "        text-align: right;\n",
       "    }\n",
       "</style>\n",
       "<table border=\"1\" class=\"dataframe\">\n",
       "  <thead>\n",
       "    <tr style=\"text-align: right;\">\n",
       "      <th></th>\n",
       "      <th>sentence</th>\n",
       "    </tr>\n",
       "  </thead>\n",
       "  <tbody>\n",
       "    <tr>\n",
       "      <td>0</td>\n",
       "      <td>The sun had not yet risen.</td>\n",
       "    </tr>\n",
       "    <tr>\n",
       "      <td>1</td>\n",
       "      <td>The sea was indistinguishable from the sky, ex...</td>\n",
       "    </tr>\n",
       "    <tr>\n",
       "      <td>2</td>\n",
       "      <td>Gradually as the sky whitened a dark line lay ...</td>\n",
       "    </tr>\n",
       "    <tr>\n",
       "      <td>3</td>\n",
       "      <td>As they neared the shore each bar rose, heaped...</td>\n",
       "    </tr>\n",
       "    <tr>\n",
       "      <td>4</td>\n",
       "      <td>The wave paused, and then drew out again, sigh...</td>\n",
       "    </tr>\n",
       "    <tr>\n",
       "      <td>...</td>\n",
       "      <td>...</td>\n",
       "    </tr>\n",
       "    <tr>\n",
       "      <td>5191</td>\n",
       "      <td>Death is the enemy.</td>\n",
       "    </tr>\n",
       "    <tr>\n",
       "      <td>5192</td>\n",
       "      <td>It is death against whom I ride with my spear ...</td>\n",
       "    </tr>\n",
       "    <tr>\n",
       "      <td>5193</td>\n",
       "      <td>I strike spurs into my horse.</td>\n",
       "    </tr>\n",
       "    <tr>\n",
       "      <td>5194</td>\n",
       "      <td>Against you I will fling myself, unvanquished ...</td>\n",
       "    </tr>\n",
       "    <tr>\n",
       "      <td>5195</td>\n",
       "      <td>'       The waves broke on the shore.</td>\n",
       "    </tr>\n",
       "  </tbody>\n",
       "</table>\n",
       "<p>5196 rows × 1 columns</p>\n",
       "</div>"
      ],
      "text/plain": [
       "                                               sentence\n",
       "0                            The sun had not yet risen.\n",
       "1     The sea was indistinguishable from the sky, ex...\n",
       "2     Gradually as the sky whitened a dark line lay ...\n",
       "3     As they neared the shore each bar rose, heaped...\n",
       "4     The wave paused, and then drew out again, sigh...\n",
       "...                                                 ...\n",
       "5191                                Death is the enemy.\n",
       "5192  It is death against whom I ride with my spear ...\n",
       "5193                      I strike spurs into my horse.\n",
       "5194  Against you I will fling myself, unvanquished ...\n",
       "5195              '       The waves broke on the shore.\n",
       "\n",
       "[5196 rows x 1 columns]"
      ]
     },
     "execution_count": 25,
     "metadata": {},
     "output_type": "execute_result"
    }
   ],
   "source": [
    "# The Waves (1931)\n",
    "the_waves_url = 'http://gutenberg.net.au/ebooks02/0201091h.html'\n",
    "res = requests.get(the_waves_url)\n",
    "html_page = res.content\n",
    "soup = BeautifulSoup(html_page, 'html.parser')\n",
    "text = soup.find_all(text=True)\n",
    "\n",
    "output = ''\n",
    "blacklist = ['[document]','a','b','big','blockquote','body','center','font','h1','h2','head','html','pre','style','table','td','title','tr']\n",
    "\n",
    "for t in text:\n",
    "    if t.parent.name not in blacklist:\n",
    "        output += '{} '.format(t)\n",
    "x = output\n",
    "\n",
    "the_waves = pd.DataFrame(extract_sentences(x)).rename(columns={0: 'sentence'})\n",
    "the_waves['sentence'][0] = the_waves['sentence'][0].strip('a treasure-trove of literature \\xa0 \\xa0 \\xa0 \\xa0 \\xa0 \\xa0 \\xa0 \\xa0 \\xa0 ')\n",
    "the_waves"
   ]
  },
  {
   "cell_type": "markdown",
   "metadata": {},
   "source": [
    "## 4. Semantic Analysis with the Vader Method\n",
    "Now that we have dataframes of sentences the next challenge is correctly quantifying the text's very qualitative characteristics. With sentiment analysis, we can perceive a very subjective concept through objective terms like numbers. Unlike humans, computers struggle with understanding the double meanings, innuendos, negations, or the evoked (but not articulated) emotions in text. Thus, while it may seem easy at first, sentiment analysis is a tricky task.\n",
    "\n",
    "A method for sentiment analysis is Vader (Valence Aware Dictionary and Sentiment Reasoner). Vader is a lexicon and rule-based sentiment analysis tool, sensitive to both the polarity (positive or negative) and intensity (strength) of emotion. Available in the NLTK package, the Vader sentiment analysis relies on a dictionary of approximately 7,500 words, emoticons, emojis, acronyms, and commonly used slang that maps lexical features to emotion intensities, known as sentiment scores. These scores represent the proportion of a text that expresses positive, negative, or neutral opinion, and vader_compound shows the weighted composite of these scores. The Vader method scores an entire sentence, not just the individual words; this is great, as it allows the algorithm to adjust for negations, such as \"not,\" booster words, such as \"remarkably.\" "
   ]
  },
  {
   "cell_type": "code",
   "execution_count": 26,
   "metadata": {},
   "outputs": [],
   "source": [
    "# Importing the Vader package\n",
    "from vaderSentiment.vaderSentiment import SentimentIntensityAnalyzer\n",
    "analyzer = SentimentIntensityAnalyzer()"
   ]
  },
  {
   "cell_type": "markdown",
   "metadata": {},
   "source": [
    "Below, we create a function, ‘vaderize’ that computes Vader polarity scores for a certain textfield. We can apply 'vaderize' to each dataframe of Woolf's texts, and create new dataframes that contain the compound, positive, negative, and neutral vader scores for every single sentence in each of Woolf's works."
   ]
  },
  {
   "cell_type": "code",
   "execution_count": 27,
   "metadata": {},
   "outputs": [],
   "source": [
    "# Function that performs the 'analyzer' function on each sentence in the dataframe\n",
    "def vaderize(df, textfield):\n",
    "    '''Compute the Vader polarity scores for a textfield.\n",
    "    Returns scores and original dataframe.'''\n",
    "    \n",
    "    analyzer = SentimentIntensityAnalyzer()\n",
    "    sentiment = df[textfield].apply(analyzer.polarity_scores)\n",
    "    sdf = pd.DataFrame(sentiment.tolist()).add_prefix('vader_')\n",
    "    df_combined = pd.concat([df, sdf], axis=1)\n",
    "    \n",
    "    return df_combined"
   ]
  },
  {
   "cell_type": "code",
   "execution_count": 28,
   "metadata": {
    "scrolled": true
   },
   "outputs": [],
   "source": [
    "# Apply 'vaderize' to each text's sentence dataframe\n",
    "voyage_out_vader = vaderize(voyage_out, 'sentence')\n",
    "night_day_vader = vaderize(night_day, 'sentence')\n",
    "room_of_ones_own_vader = vaderize(room_of_ones_own, 'sentence')\n",
    "mark_on_the_wall_vader = vaderize(mark_on_the_wall, 'sentence')\n",
    "modern_fiction_vader = vaderize(modern_fiction, 'sentence')\n",
    "bennett_brown_vader = vaderize(bennett_brown, 'sentence')\n",
    "flush_vader = vaderize(flush, 'sentence')\n",
    "jacobs_room_vader = vaderize(jacobs_room, 'sentence')\n",
    "mrs_dalloway_vader = vaderize(mrs_dalloway, 'sentence')\n",
    "to_the_lighthouse_vader = vaderize(to_the_lighthouse, 'sentence')\n",
    "orlando_vader = vaderize(orlando, 'sentence')\n",
    "three_guineas_vader = vaderize(three_guineas, 'sentence')\n",
    "between_the_acts_vader = vaderize(between_the_acts, 'sentence')\n",
    "kew_gardens_vader = vaderize(kew_gardens, 'sentence')\n",
    "street_haunting_vader = vaderize(street_haunting, 'sentence')\n",
    "the_waves_vader = vaderize(the_waves , 'sentence')\n",
    "the_years_vader = vaderize(the_years , 'sentence')"
   ]
  },
  {
   "cell_type": "code",
   "execution_count": 29,
   "metadata": {},
   "outputs": [],
   "source": [
    "# Create a new dataframe of the average neg, pos, neu, compound vader scores for each text\n",
    "# Ordered chronologically\n",
    "vader_means = pd.DataFrame({'voyage': voyage_out_vader.mean(),\n",
    "                            'mark': mark_on_the_wall_vader.mean(),\n",
    "                            'kew': kew_gardens_vader.mean(),\n",
    "                            'night': night_day_vader.mean(),\n",
    "                            'modern': modern_fiction_vader.mean(),\n",
    "                            'jacobs': jacobs_room_vader.mean(),\n",
    "                            'bennett': bennett_brown_vader.mean(),\n",
    "                            'dalloway': mrs_dalloway_vader.mean(),\n",
    "                            'lighthouse': to_the_lighthouse_vader.mean(),\n",
    "                            'orlando': orlando_vader.mean(),\n",
    "                            'room': room_of_ones_own_vader.mean(),\n",
    "                            'street': street_haunting_vader.mean(),\n",
    "                            'waves': the_waves_vader.mean(),\n",
    "                            'flush': flush_vader.mean(),\n",
    "                            'years': the_years_vader.mean(),\n",
    "                            'guineas': three_guineas_vader.mean(),\n",
    "                            'bta': between_the_acts_vader.mean(),})"
   ]
  },
  {
   "cell_type": "code",
   "execution_count": 30,
   "metadata": {},
   "outputs": [
    {
     "data": {
      "text/html": [
       "<div>\n",
       "<style scoped>\n",
       "    .dataframe tbody tr th:only-of-type {\n",
       "        vertical-align: middle;\n",
       "    }\n",
       "\n",
       "    .dataframe tbody tr th {\n",
       "        vertical-align: top;\n",
       "    }\n",
       "\n",
       "    .dataframe thead th {\n",
       "        text-align: right;\n",
       "    }\n",
       "</style>\n",
       "<table border=\"1\" class=\"dataframe\">\n",
       "  <thead>\n",
       "    <tr style=\"text-align: right;\">\n",
       "      <th></th>\n",
       "      <th>voyage</th>\n",
       "      <th>mark</th>\n",
       "      <th>kew</th>\n",
       "      <th>night</th>\n",
       "      <th>modern</th>\n",
       "      <th>jacobs</th>\n",
       "      <th>bennett</th>\n",
       "      <th>dalloway</th>\n",
       "      <th>lighthouse</th>\n",
       "      <th>orlando</th>\n",
       "      <th>room</th>\n",
       "      <th>street</th>\n",
       "      <th>waves</th>\n",
       "      <th>flush</th>\n",
       "      <th>years</th>\n",
       "      <th>guineas</th>\n",
       "      <th>bta</th>\n",
       "    </tr>\n",
       "  </thead>\n",
       "  <tbody>\n",
       "    <tr>\n",
       "      <td>vader_neg</td>\n",
       "      <td>0.065475</td>\n",
       "      <td>0.068770</td>\n",
       "      <td>0.038648</td>\n",
       "      <td>0.063618</td>\n",
       "      <td>0.066212</td>\n",
       "      <td>0.058867</td>\n",
       "      <td>0.070496</td>\n",
       "      <td>0.071007</td>\n",
       "      <td>0.062625</td>\n",
       "      <td>0.062671</td>\n",
       "      <td>0.073160</td>\n",
       "      <td>0.046180</td>\n",
       "      <td>0.068098</td>\n",
       "      <td>0.076285</td>\n",
       "      <td>0.046501</td>\n",
       "      <td>0.057482</td>\n",
       "      <td>0.048145</td>\n",
       "    </tr>\n",
       "    <tr>\n",
       "      <td>vader_neu</td>\n",
       "      <td>0.845063</td>\n",
       "      <td>0.840021</td>\n",
       "      <td>0.892264</td>\n",
       "      <td>0.844516</td>\n",
       "      <td>0.813904</td>\n",
       "      <td>0.870237</td>\n",
       "      <td>0.851186</td>\n",
       "      <td>0.836802</td>\n",
       "      <td>0.855867</td>\n",
       "      <td>0.854099</td>\n",
       "      <td>0.839597</td>\n",
       "      <td>0.872415</td>\n",
       "      <td>0.866101</td>\n",
       "      <td>0.864608</td>\n",
       "      <td>0.892447</td>\n",
       "      <td>0.865782</td>\n",
       "      <td>0.897928</td>\n",
       "    </tr>\n",
       "    <tr>\n",
       "      <td>vader_pos</td>\n",
       "      <td>0.089460</td>\n",
       "      <td>0.091216</td>\n",
       "      <td>0.069077</td>\n",
       "      <td>0.091864</td>\n",
       "      <td>0.119856</td>\n",
       "      <td>0.070893</td>\n",
       "      <td>0.078320</td>\n",
       "      <td>0.092197</td>\n",
       "      <td>0.081510</td>\n",
       "      <td>0.083227</td>\n",
       "      <td>0.087248</td>\n",
       "      <td>0.081385</td>\n",
       "      <td>0.065802</td>\n",
       "      <td>0.059105</td>\n",
       "      <td>0.061052</td>\n",
       "      <td>0.076732</td>\n",
       "      <td>0.053924</td>\n",
       "    </tr>\n",
       "    <tr>\n",
       "      <td>vader_compound</td>\n",
       "      <td>0.068618</td>\n",
       "      <td>0.053511</td>\n",
       "      <td>0.050577</td>\n",
       "      <td>0.083261</td>\n",
       "      <td>0.165230</td>\n",
       "      <td>0.043090</td>\n",
       "      <td>0.071440</td>\n",
       "      <td>0.071966</td>\n",
       "      <td>0.062297</td>\n",
       "      <td>0.071439</td>\n",
       "      <td>0.074501</td>\n",
       "      <td>0.155588</td>\n",
       "      <td>0.016782</td>\n",
       "      <td>-0.007701</td>\n",
       "      <td>0.034232</td>\n",
       "      <td>0.071169</td>\n",
       "      <td>0.028915</td>\n",
       "    </tr>\n",
       "  </tbody>\n",
       "</table>\n",
       "</div>"
      ],
      "text/plain": [
       "                  voyage      mark       kew     night    modern    jacobs  \\\n",
       "vader_neg       0.065475  0.068770  0.038648  0.063618  0.066212  0.058867   \n",
       "vader_neu       0.845063  0.840021  0.892264  0.844516  0.813904  0.870237   \n",
       "vader_pos       0.089460  0.091216  0.069077  0.091864  0.119856  0.070893   \n",
       "vader_compound  0.068618  0.053511  0.050577  0.083261  0.165230  0.043090   \n",
       "\n",
       "                 bennett  dalloway  lighthouse   orlando      room    street  \\\n",
       "vader_neg       0.070496  0.071007    0.062625  0.062671  0.073160  0.046180   \n",
       "vader_neu       0.851186  0.836802    0.855867  0.854099  0.839597  0.872415   \n",
       "vader_pos       0.078320  0.092197    0.081510  0.083227  0.087248  0.081385   \n",
       "vader_compound  0.071440  0.071966    0.062297  0.071439  0.074501  0.155588   \n",
       "\n",
       "                   waves     flush     years   guineas       bta  \n",
       "vader_neg       0.068098  0.076285  0.046501  0.057482  0.048145  \n",
       "vader_neu       0.866101  0.864608  0.892447  0.865782  0.897928  \n",
       "vader_pos       0.065802  0.059105  0.061052  0.076732  0.053924  \n",
       "vader_compound  0.016782 -0.007701  0.034232  0.071169  0.028915  "
      ]
     },
     "execution_count": 30,
     "metadata": {},
     "output_type": "execute_result"
    }
   ],
   "source": [
    "vader_means"
   ]
  },
  {
   "cell_type": "markdown",
   "metadata": {},
   "source": [
    "### Sentence Vader Scores at a Glance"
   ]
  },
  {
   "cell_type": "code",
   "execution_count": 31,
   "metadata": {},
   "outputs": [
    {
     "data": {
      "text/plain": [
       "modern        0.165230\n",
       "street        0.155588\n",
       "night         0.083261\n",
       "room          0.074501\n",
       "dalloway      0.071966\n",
       "bennett       0.071440\n",
       "orlando       0.071439\n",
       "guineas       0.071169\n",
       "voyage        0.068618\n",
       "lighthouse    0.062297\n",
       "mark          0.053511\n",
       "kew           0.050577\n",
       "jacobs        0.043090\n",
       "years         0.034232\n",
       "bta           0.028915\n",
       "waves         0.016782\n",
       "flush        -0.007701\n",
       "Name: vader_compound, dtype: float64"
      ]
     },
     "execution_count": 31,
     "metadata": {},
     "output_type": "execute_result"
    }
   ],
   "source": [
    "# Average compound vader score for each of Woolf's works\n",
    "# Ranked in descending order\n",
    "vader_means.loc['vader_compound'].sort_values(ascending = False)"
   ]
  },
  {
   "cell_type": "markdown",
   "metadata": {},
   "source": [
    "Now, with these dataframes, we can start comparing the sentiment across texts. A positive vader_compound score means the sentence is generally positive, and a negative means the sentence is generally negative. As we can see, according to the Vader method, <em>Flush: A Biography</em> is the most negative text overall. It appears that \"Modern Fiction\", on the other hand, had the most positive sentiment."
   ]
  },
  {
   "cell_type": "code",
   "execution_count": 32,
   "metadata": {},
   "outputs": [
    {
     "data": {
      "text/plain": [
       "modern        0.119856\n",
       "dalloway      0.092197\n",
       "night         0.091864\n",
       "mark          0.091216\n",
       "voyage        0.089460\n",
       "room          0.087248\n",
       "orlando       0.083227\n",
       "lighthouse    0.081510\n",
       "street        0.081385\n",
       "bennett       0.078320\n",
       "guineas       0.076732\n",
       "jacobs        0.070893\n",
       "kew           0.069077\n",
       "waves         0.065802\n",
       "years         0.061052\n",
       "flush         0.059105\n",
       "bta           0.053924\n",
       "Name: vader_pos, dtype: float64"
      ]
     },
     "execution_count": 32,
     "metadata": {},
     "output_type": "execute_result"
    }
   ],
   "source": [
    "# Average positive vader score for each of Woolf's works\n",
    "# Ranked in descending order\n",
    "vader_means.loc['vader_pos'].sort_values(ascending = False)"
   ]
  },
  {
   "cell_type": "markdown",
   "metadata": {},
   "source": [
    "Ranking the texts based on descending vader_pos scores shows that \"Modern Fiction\", <em>Mrs. Dalloway</em>, and <em>Night and Day</em> have the most extreme positive emotion. Examining purely vader_neg can show us that the most negative texts are <em>Flush</em>, <em>A Room of One's Own</em>, and <em>Mrs. Dalloway</em>."
   ]
  },
  {
   "cell_type": "code",
   "execution_count": 33,
   "metadata": {},
   "outputs": [
    {
     "data": {
      "text/plain": [
       "flush         0.076285\n",
       "room          0.073160\n",
       "dalloway      0.071007\n",
       "bennett       0.070496\n",
       "mark          0.068770\n",
       "waves         0.068098\n",
       "modern        0.066212\n",
       "voyage        0.065475\n",
       "night         0.063618\n",
       "orlando       0.062671\n",
       "lighthouse    0.062625\n",
       "jacobs        0.058867\n",
       "guineas       0.057482\n",
       "bta           0.048145\n",
       "years         0.046501\n",
       "street        0.046180\n",
       "kew           0.038648\n",
       "Name: vader_neg, dtype: float64"
      ]
     },
     "execution_count": 33,
     "metadata": {},
     "output_type": "execute_result"
    }
   ],
   "source": [
    "# Average negative vader score for each of Woolf's works\n",
    "# Ranked in descending order\n",
    "vader_means.loc['vader_neg'].sort_values(ascending = False)"
   ]
  },
  {
   "cell_type": "markdown",
   "metadata": {},
   "source": [
    "While summary statistics are interesting, it would be much better if we could visualize this data..."
   ]
  },
  {
   "cell_type": "markdown",
   "metadata": {},
   "source": [
    "## 5. Visualizing Sentiment Shifts Across Woolf's Career"
   ]
  },
  {
   "cell_type": "code",
   "execution_count": 34,
   "metadata": {
    "scrolled": false
   },
   "outputs": [
    {
     "data": {
      "image/png": "[encoded data removed]",
      "text/plain": [
       "<Figure size 1080x576 with 1 Axes>"
      ]
     },
     "metadata": {
      "needs_background": "light"
     },
     "output_type": "display_data"
    }
   ],
   "source": [
    "# Bar chart with average compound vader score for each text\n",
    "# Ordered chronologically\n",
    "\n",
    "df = vader_means.loc['vader_compound']\n",
    "\n",
    "ax = df.plot.bar(rot = 0, \n",
    "                 figsize = (15, 8), \n",
    "                 color = 'gainsboro',\n",
    "                 ec = ['green', 'red','red', 'green','green','red','green','green', 'red','green','green','green','red','red','red', 'green', 'red'],\n",
    "                 linewidth = 2)\n",
    "\n",
    "ax.hlines(df.mean(), -1, 17, linestyles='dashed')\n",
    "plt.axhline(linewidth=1, color='black')\n",
    "trans = transforms.blended_transform_factory(ax.get_yticklabels()[0].get_transform(), ax.transData)\n",
    "ax.text(0, df.mean(), \"{:.3f}\".format(df.mean()), color=\"darkgreen\", transform=trans ,ha=\"right\", va=\"center\")\n",
    "\n",
    "plt.title(\"Vader Compound Scores for Woolf's Texts\", fontsize = 15)\n",
    "plt.xlabel(\"Publication Title\")\n",
    "plt.ylabel(\"Vader Compound Score Value (0.0-1.0 Scale)\")\n",
    "plt.show()"
   ]
  },
  {
   "cell_type": "markdown",
   "metadata": {},
   "source": [
    "The bar chart above visualizes the average compound vader score for each of Woolf's texts. On a scale of 0 to 1, across the texts analyzed in this project, the average sentimentality was 0.066 positive. The texts 'sadder' than average, bordered in red, are \"The Mark on the Wall\" (1917), \"Kew Gardens\"(1919), <em>Jacob's Room</em> (1922), <em>To the Lighthouse</em> (1927), <em>The Waves</em> (1931), <em>Flush: A Biography</em> (1933), <em>The Years</em> (1937), and <em>Between the Acts</em> (1941). The texts 'happier' than average are <em>The Voyage Out</em> (1915), <em>Night and Day</em> (1919), \"Modern Fiction\" (1921), \"Mr. Bennett and Mrs. Brown\" (1923), <em>Mrs. Dalloway</em>, <em>Orlando: A Biography</em> (1928), <em>A Room of One's Own</em> (1929), \"Street Haunting: A London Adventure\", and <em>Three Guineas</em> (1938)."
   ]
  },
  {
   "cell_type": "code",
   "execution_count": 35,
   "metadata": {},
   "outputs": [
    {
     "data": {
      "image/png": "[encoded data removed]",
      "text/plain": [
       "<Figure size 720x504 with 1 Axes>"
      ]
     },
     "metadata": {
      "needs_background": "light"
     },
     "output_type": "display_data"
    }
   ],
   "source": [
    "# Bar chart with average positive and average negative vader score for each text\n",
    "# Ordered chronologically\n",
    "\n",
    "plotdata = vader_means.drop(['vader_neu', 'vader_compound'])\n",
    "plotdata = plotdata.T\n",
    "plotdata['vader_neg'] = plotdata['vader_neg']*(-1)\n",
    "\n",
    "plotdata.plot(kind='bar', stacked=True, color = ['red', 'green'], rot = 40, figsize = (10,7))\n",
    "plt.axhline(linewidth=1, color='black')\n",
    "\n",
    "plt.title(\"Positive and Negative Vader Scores for Woolf's Texts\")\n",
    "plt.xlabel(\"Publication Title\")\n",
    "plt.ylabel(\"Vader Score\")\n",
    "plt.show()"
   ]
  },
  {
   "cell_type": "markdown",
   "metadata": {},
   "source": [
    "Here, we break apart the vader_compound score, as it allows us to see the magnitude to which each of the positive and negative sentiments are expressed throughout the texts."
   ]
  },
  {
   "cell_type": "markdown",
   "metadata": {},
   "source": [
    "### Chronological Emotion Across Woolf's Works\n",
    "Woolf's career was not without its inidivudal ups and downs, particularly given the tumultuous context of social distress, impending world wars, family deaths, and her own mental illnesses. \n",
    "\n",
    "It might be interesting to see how the calculated vader scores increase or decrease as we move further into Woolf's career. We can find the average compound, positive, and negative vader scores for each of Woolf's texts. Then, we can see how these scores change across time and works by ordering the texts in chronological order!"
   ]
  },
  {
   "cell_type": "code",
   "execution_count": 36,
   "metadata": {},
   "outputs": [
    {
     "data": {
      "image/png": "[encoded data removed]",
      "text/plain": [
       "<Figure size 1080x504 with 1 Axes>"
      ]
     },
     "metadata": {
      "needs_background": "light"
     },
     "output_type": "display_data"
    }
   ],
   "source": [
    "# Line plot with average compound vader score for each text\n",
    "# Ordered chronologically\n",
    "\n",
    "plt.figure(figsize=(15,7))\n",
    "plt.axhline(linewidth=1, color='black')\n",
    "plt.plot(vader_means.loc['vader_compound'], label = 'vader_compound', color = 'dodgerblue',linewidth = 3)\n",
    "plt.plot(vader_means.loc['vader_pos'], label = 'vader_pos', color = 'green', linewidth = 1.5)\n",
    "plt.plot(vader_means.loc['vader_neg'], label = 'vader_neg', color = 'red', linewidth = 1.5)\n",
    "\n",
    "plt.xlabel(\"Woolf's Works in Chronological Order\")\n",
    "plt.ylabel('Vader Score Magnitudes')\n",
    "plt.title(\"Text Sentiment in Woolf's Works Throughout Literary Career\")\n",
    "plt.legend()\n",
    "plt.show()"
   ]
  },
  {
   "cell_type": "markdown",
   "metadata": {},
   "source": [
    "Here, we can observe the computed fluctuations in each text's magnitude of positive and negative emotion in chronological order. It seems that \"Modern Fiction\" had the highest intensity of positive emotion, while <em>Flush: A Biography</em> had the highest value for negative emotion. From looking at how the intensities as time passes, we can see both emotions remain relatively constant, aside from a slight decline in positive vader scores for the texts towards the latter half of Woolf's career. It might be more useful to observe sentiment trends within genres, as the general sentiment of a biography might be much different than that of a polemic. "
   ]
  },
  {
   "cell_type": "markdown",
   "metadata": {},
   "source": [
    "### Chronological Emotion Across Novels\n",
    "Woolf's lyrical technique is incredibly distinctive for its seamless evocation of emotion within and between characters. Quantifying sentiment specifically in her novels and comparing across each one might provide new insight into her most significant works of her most renowned genre."
   ]
  },
  {
   "cell_type": "code",
   "execution_count": 37,
   "metadata": {},
   "outputs": [
    {
     "data": {
      "image/png": "[encoded data removed]",
      "text/plain": [
       "<Figure size 1080x504 with 1 Axes>"
      ]
     },
     "metadata": {
      "needs_background": "light"
     },
     "output_type": "display_data"
    }
   ],
   "source": [
    "# Line plot with average compound vader score for each novel\n",
    "# Ordered chronologically\n",
    "\n",
    "novel_df = vader_means[['voyage', 'night', 'jacobs', 'dalloway', 'lighthouse', 'waves', 'years', 'bta']]\n",
    "\n",
    "plt.figure(figsize=(15, 7))\n",
    "plt.plot(novel_df.loc['vader_compound'], label = 'vader_compound', color = 'dodgerblue',linewidth = 3)\n",
    "plt.plot(novel_df.loc['vader_pos'], label = 'vader_pos', color = 'green',linewidth = 1.5)\n",
    "plt.plot(novel_df.loc['vader_neg'], label = 'vader_neg', color = 'red',linewidth = 1.5)\n",
    "\n",
    "plt.xlabel(\"Woolf's Novels in Chronological Order\")\n",
    "plt.ylabel('Vader Score Magnitudes')\n",
    "plt.title(\"Text Sentiment in Woolf's Novels Throughout Literary Career\")\n",
    "plt.legend()\n",
    "plt.show()"
   ]
  },
  {
   "attachments": {},
   "cell_type": "markdown",
   "metadata": {},
   "source": [
    "The graph above shows a decline in overall positivity as Woolf's literary career progresses, specifically with the publication of novels. The overall sentiment starts rather positive, with the 1915 publication of Woolf's first novel, <em>The Voyage Out</em>. <em>Night and Day</em>, 1919, was considered by Woolf to be her \"traditional\" novel, in the manner of the nineteenth-century novelists she admired-- maybe the slight decline shows a more serious approach to narrative writing. <em>Jacob's Room</em>, 1922, was her first truly experimental novel based on her elder brother, Thoby Stephen, who died of a fever in 1906. The somber source of inspiration for <em>Jacob's Room</em> might explain the dip in positive sentiment.\n",
    "\n",
    "Moving forward, we see a surge in positive sentiment in <em>Mrs. Dalloway</em>, 1925. Overall, <em>Mrs. Dalloway</em> has a lower vader_compound score than <em>Night and Day</em>, but has noticeable more extreme emotions, as shown by its high magnitude vader_pos and vader_neg scores. The amplitude of emotion provides a new way of interpreting the text, in combination with our knowledge of its main characters' polarity -- particularly, the schizophrenic Septimus Smith. After <em>Mrs. Dalloway</em>, Woolf's texts drop in positive sentiment, according to the Vader method. The publication of <em>Mrs. Dalloway</em> and <em>To the Lighthouse</em> are the peaks of Woolf's career; they helped garner her international acclaim and recognition. \n",
    "\n",
    "<em>To the Lighthouse</em> is then followed by <em>The Waves</em>, a novel generally considered to be Woolf's masterpiece, while also her most experimental and challenging work. Although this novel is perhaps her most distinguished, it remains to this day her most enigmatic. Considered her most solemn piece, the visualization above certainly supports the preconceived perception of The Wave's melancholy. Indeed, <em>The Waves</em> has the lowest vader_compound score, as well as the highest vader_neg score.\n",
    "\n",
    "Published in 1937, <em>The Years</em> traces the life of a Victorian family from 1880 to \"Present Day.\" Woolf's next novel, <em>Between the Acts</em>, was her last work. Published posthumously in 1941, <em>Between the Acts</em> takes place in a short period in June of 1939, focused on a play hosted in a local town. In this novel, the reader can sense the lingering ramifications of World War 1 and the anxious anticipation of World War 2. With Woolf's worsening mental health as a background for the creation of <em>Between the Acts</em>, one can understand why we see a decline in vader_compound scores for this novel. As indicated above, <em>Between the Acts</em>, illustrates Woolf's mounting concern at the threat of war, with her degrading happiness."
   ]
  },
  {
   "cell_type": "markdown",
   "metadata": {},
   "source": [
    "## 6. How Emotions Change Within Each Text's Narrative\n",
    "### Novels:\n",
    "By looking closely at individual novels, we can see how  vader_scores fluctuate within each narrative. Especially with novels such as <em>Mrs. Dalloway</em>, <em>To the Lighthouse</em>, and <em>Between the Acts</em>, where time plays an integral role in the text's progression, understanding how emotion fluctuates might derive meaningful insight. \n",
    "\n",
    "Oscillations in vader_compound, vader_pos, and vader_neg can help visualize any trends in the ebb and flow of emotion across each text. As each novel is of different lengths, we had to find ways to use the same reference points for text duration. To do this, we divided each novel into fifteen segments and found the average vader scores for each sentence within the fifteen segments. Thus, we can plot the fifteen values across the text's duration and compare them across multiple texts."
   ]
  },
  {
   "cell_type": "code",
   "execution_count": 38,
   "metadata": {
    "scrolled": true
   },
   "outputs": [
    {
     "data": {
      "image/png": "[encoded data removed]",
      "text/plain": [
       "<Figure size 720x360 with 1 Axes>"
      ]
     },
     "metadata": {
      "needs_background": "light"
     },
     "output_type": "display_data"
    }
   ],
   "source": [
    "# Vader Compound Chronologically -- Novels\n",
    "# Line plot with compound vader score across the duration of each novel\n",
    "\n",
    "# Mrs. Dalloway, 1925\n",
    "md = mrs_dalloway_vader['vader_compound']\n",
    "md_ave = md.groupby(np.arange(len(md))//(len(md)/15)).mean()\n",
    "\n",
    "# To the Lighthouse, 1927\n",
    "ttl = to_the_lighthouse_vader['vader_compound']\n",
    "ttl_ave = ttl.groupby(np.arange(len(ttl))//(len(ttl)/15)).mean()\n",
    "\n",
    "# Between the Acts, 1941\n",
    "bta = between_the_acts_vader['vader_compound']\n",
    "bta_ave = bta.groupby(np.arange(len(bta))//(len(bta)/15)).mean()\n",
    "\n",
    "plt.figure(figsize=(10, 5))\n",
    "plt.axhline(linewidth=1, color='black')\n",
    "plt.plot(md_ave, label = \"Mrs. Dalloway\", color = 'darkviolet')\n",
    "plt.plot(ttl_ave, label = \"To The Lighthouse\", color = 'deeppink')\n",
    "plt.plot(bta_ave, label = \"Between the Acts\", color = 'orange')\n",
    "\n",
    "plt.xlabel('Over the Course of the Text')\n",
    "plt.ylabel('Compound Vader Score Values')\n",
    "plt.title(\"Compound Vader Scores in the Course of Woolf's Novels\")\n",
    "plt.legend()\n",
    "plt.show()"
   ]
  },
  {
   "attachments": {},
   "cell_type": "markdown",
   "metadata": {},
   "source": [
    "<em> Close Reading the Sentiment Dissonances Between Woolf's Novels:</em>\n",
    "\n",
    "This visualization highlights a few critical insights within and across Woolf's most notable novels. First, <em>Mrs. Dalloway</em>'s significant number of extremely high and low vader_scores might represent the polarizing and sporadic anxieties of the schizophrenic, shell-shocked WW1 veteran Septimus Smith. Perhaps these spikes signal the extraordinary intensity to which the characters feel depression, mania, trauma, and fervor throughout their narratives. Additionally, towards the end of the novel, Mrs. Dalloway hears of Septimus Smith's suicide, which triggers an onslaught of personal reflection on death and depression -- an episode potentially indicated by the sudden drop in positivity at the end of the novel. \n",
    "\n",
    "<em>To the Lighthouse</em> also experiences extreme highs and lows, as shown by the vader_compound score reaching almost as high as 0.15 and subsequently dropping to almost -0.025. <em>To the Lighthouse</em> is divided into three segments; while challenging to discern where these three segments are graphed, we can see three prominent 'highs' at 1, 7, and 15, and two 'lows' at 5 and 10. The gradual increase in the vader score from points 10 to 15 might symbolize the last section of the novel, \"The Lighthouse,\" when the remaining Ramsays and guests return to their summer home after ten years. The increased positivity on the graph could represent the sentimentality shift from the melancholic Part 2, which focused on the abandoned summer home, the implications of WW1, and the Ramsay family's loneliness. In Part 3, we finally see harmony among the characters: Mr. Ramsay praises James on their trip over to the lighthouse, Cam slowly trades her resentment towards her father for compassion, and Lily finally finishes her painting. \n",
    "\n",
    "Lastly, this visualization shows <em>Between the Acts</em> as the saddest novel, with vader_compound scores consistently lower than <em>Mrs. Dalloway</em> and <em>To the Lighthouse</em>. The novel's sentiment fluctuates to a much smaller degree than the other two texts, remaining between 0.00 and 0.05. <em>Between the Acts</em> itself flits between not just various characters, but various periods, as Miss La Trobe's play portrays centuries of famous literature and theatre. After multiple pathways and trajectories, the novel ends in a moment of suspension, dispersion, and anticipation. As reflected in the visualization above, rather than sweeping sentiment shifts in <em>Mrs. Dalloway</em> and <em>To the Lighthouse</em>, we see multiple smaller variations in <em>Between the Acts</em>. Towards the end of the novel, we see a plateau -- the curtain's opening, the question left unanswered, the audience's anticlimactic dispersion escaping the literary world and returning to the material one. Woolf, shortly after writing the typescript of <em>Between the Acts</em>, decided to end her own life, due to the onset of another terrible period of mental illness, paired with the anticipation of an oncoming invasion by Hitler. The novel dissipates into an open ending; questions are left unanswered, and the book unfinished; a picture well-suited by the stagnating sentiment."
   ]
  },
  {
   "cell_type": "markdown",
   "metadata": {},
   "source": [
    "### Short Stories:\n",
    "Another primary genre in which Woolf contributed beautiful works of literature was short stories; her two most notable ones being \"The Mark on the Wall\", her first publication, and \"Kew Gardens\". We will look at these two short stories, alongside a short story that came a dozen years later: \"Street Haunting: A London Adventure\", 1930."
   ]
  },
  {
   "cell_type": "code",
   "execution_count": 39,
   "metadata": {},
   "outputs": [
    {
     "data": {
      "image/png": "[encoded data removed]",
      "text/plain": [
       "<Figure size 720x360 with 1 Axes>"
      ]
     },
     "metadata": {
      "needs_background": "light"
     },
     "output_type": "display_data"
    }
   ],
   "source": [
    "# Vader Compound Chronologically -- Short Stories\n",
    "# Line plot with compound vader score across the duration of each short story\n",
    "\n",
    "# Mark On the Wall, 1917\n",
    "mw = mark_on_the_wall_vader['vader_compound']\n",
    "mw_ave = mw.groupby(np.arange(len(mw))//(len(mw)/15)).mean()\n",
    "\n",
    "# Kew Gardens, 1919 \n",
    "kw = kew_gardens_vader['vader_compound']\n",
    "kw_ave = kw.groupby(np.arange(len(kw))//(len(kw)/15)).mean()\n",
    "\n",
    "# Street Haunting, 1930 \n",
    "sh = street_haunting_vader['vader_compound']\n",
    "sh_ave = sh.groupby(np.arange(len(sh))//(len(sh)/15)).mean()\n",
    "\n",
    "plt.figure(figsize=(10, 5))\n",
    "plt.axhline(linewidth=1, color='black')\n",
    "plt.plot(mw_ave, label = \"The Mark on the Wall\", color = 'darkviolet')\n",
    "plt.plot(kw_ave, label = \"Kew Gardens\", color = 'deeppink')\n",
    "plt.plot(sh_ave, label = \"Street Haunting\", color = 'orange')\n",
    "\n",
    "plt.xlabel('Over the Course of the Text')\n",
    "plt.ylabel('Compound Vader Score Values')\n",
    "plt.title(\"Compound Vader Scores in the Course of Woolf's Short Stories\")\n",
    "plt.legend()\n",
    "plt.show()"
   ]
  },
  {
   "attachments": {},
   "cell_type": "markdown",
   "metadata": {},
   "source": [
    "<em>Critical Analysis of The Emotion Fluctuations in Woolf's Short Stories:</em>\n",
    "\n",
    "A distinction immediately appears between \"The Mark on the Wall\" and \"Kew Gardens\", with \"Street Haunting\". Perhaps this is a sign of the times: as we saw with her novels, Woolf's work experienced a decline in overall positive sentiment as time went on. The similar sentimentality of \"The Mark on the Wall\" and \"Kew Gardens\" might also be explained by how the two literary works are often paired together. \"The Mark on the Wall\", a subset of the Hogarth Press's first publication, is invaluable how Woolf fills it with incredibly evocative, engaging, and articulate emotions and thoughts stimulated by the observation of a snail. Consequentially, in \"Kew Gardens\" (1919), Woolf uses the snail from \"The Mark on the Wall\" as her narrative angle from which the conversations, thoughts, and emotions of passersby are perceived and conveyed. This narrative form was an entirely new way of storytelling, with time and space fragmented, speech and thought fractured. \n",
    "\n",
    "Contrarily, \"Street Haunting\", published in 1927, describes an expedition on London's winter streets at night. Unlike \"The Mark on the Wall\" and \"Kew Gardens,\" the narrative perspective is transitory; it explores alleyways, dives into bookstores, interacts with passersby, imagines itself in others' homes. However, the two other short stories draft storylines from the perspective of a narrator who stays stationary, either from a narrator sitting in her living room or a snail resting on a flower-bed. Perhaps this influences each short story; the narrators' static nature in the first two texts allows the imaginative insertion of multiple perspectives, hence the oscillating emotion per the various transitions between characters. Meanwhile, in \"Street Haunting,\" the narrator must physically move to 'emotionally' move from perspective to perspective, lending itself to a more tedious, laborious process. As a result, the emotional oscillations tied to switching of visceral perspectives are experienced less frequently but with more intensity."
   ]
  },
  {
   "cell_type": "markdown",
   "metadata": {},
   "source": [
    "### Biographies:\n",
    "Woolf wrote three biographies: <em>Orlando</em>, <em>Flush</em>, and <em>Roger Fry</em>. Due to difficulties accessing an online eBook for <em>Roger Fry</em>, we are able to look at only <em>Orlando</em> and <em>Flush</em>. Below, we perform the same analysis to visualize the changing vader compounds across each biography."
   ]
  },
  {
   "cell_type": "code",
   "execution_count": 40,
   "metadata": {},
   "outputs": [
    {
     "data": {
      "image/png": "[encoded data removed]",
      "text/plain": [
       "<Figure size 720x360 with 1 Axes>"
      ]
     },
     "metadata": {
      "needs_background": "light"
     },
     "output_type": "display_data"
    }
   ],
   "source": [
    "# Vader Compound Chronologically -- Biographies\n",
    "# Line plot with compound vader score across the duration of each biography\n",
    "\n",
    "# Orlando, 1928\n",
    "orl = orlando_vader['vader_compound']\n",
    "orl_ave = orl.groupby(np.arange(len(orl))//(len(orl)/10)).mean()\n",
    "\n",
    "# Flush, 1933\n",
    "flu = flush_vader['vader_compound']\n",
    "flu_ave = flu.groupby(np.arange(len(flu))//(len(flu)/10)).mean()\n",
    "\n",
    "plt.figure(figsize=(10, 5))\n",
    "plt.axhline(linewidth=1, color='black')\n",
    "plt.plot(orl_ave, label = \"Orlando\", color = 'deeppink')\n",
    "plt.plot(flu_ave, label = \"Flush\", color = 'orange')\n",
    "\n",
    "plt.xlabel('Over the Course of the Text')\n",
    "plt.ylabel('Compound Vader Score Value')\n",
    "plt.title(\"Compound Vader Scores in the Course of Woolf's Biographies\")\n",
    "plt.legend()\n",
    "plt.show()"
   ]
  },
  {
   "cell_type": "markdown",
   "metadata": {},
   "source": [
    "<em> Thinking Critically About the Biographies' Vader Scores in Context</em>:\n",
    "\n",
    "<em>Flush</em> and <em>Orlando</em> are depicted by their vader_compound scores to be quite the opposite in sentiment throughout each text. According to the graph above, when <em>Orlando</em> is around its peak positivity, <em>Flush</em> is at its peak negativity at that same point in the text. <em>Orlando</em>'s computed positivity makes sense; <em>Orlando</em> fuses biography with fantasy, evading gender and time restrictions. An entertaining escape from Woolf's heavier projects, <em>Orlando</em> serves as a love-letter to Woolf's close friend and lover, Vita Sackville-West. \n",
    "\n",
    "Meanwhile, <em>Flush</em> was a comic novel written from the point of view of Elizabeth Barret Browning's cocker spaniel, Flush.  Despite its playful nature, <em>Flush</em> has vader_compound scores that fall into the negative for most of the narrative, which is a surprising result.  Unlike other genre visualizations, the differences across <em>Orlando</em> and <em>Flush</em> are harder to justify. Both biographies are whimsical and light-hearted; however, we see <em>Flush</em> computed to be much sadder than <em>Orlando</em>. It could be useful to look at precisely what sentences are the saddest and happiest in these respective biographies, to see why and how the Vader method found these results. "
   ]
  },
  {
   "cell_type": "code",
   "execution_count": 41,
   "metadata": {},
   "outputs": [],
   "source": [
    "# Functions that, for the given text, print the sentence(s) with the lowest and highest vader_compound\n",
    "def sentence_min(text_vader):\n",
    "    '''Use the vader scores to locate the sentence associated with the lowest vader_compound score.\n",
    "    Returns the \"saddest\" sentence, or the sentence with the lowest vader_compound. '''\n",
    "    min_ = text_vader[text_vader['vader_compound']==text_vader['vader_compound'].min()]\n",
    "    print(\"The most negative, or 'saddest', sentence: \\n\", min_.iloc[0]['sentence'])\n",
    "    \n",
    "def sentence_max(text_vader):    \n",
    "    '''Use the vader scores to locate the sentence associated with the highest vader_compound score.\n",
    "    Returns the \"happiest\" sentence, or the sentence with the highest vader_compound. '''\n",
    "    max_ = text_vader[text_vader['vader_compound']==text_vader['vader_compound'].max()]\n",
    "    print(\"The most positive, or 'happiest' sentence: \\n\", max_.iloc[0]['sentence'])"
   ]
  },
  {
   "cell_type": "markdown",
   "metadata": {},
   "source": [
    "We can create a function that allows us to find the lowest vader_compound score for each text and then locate the sentence associated with that score. We can also do this for the highest vader_compound score to see the 'saddest' and the 'happiest' sentences of each text."
   ]
  },
  {
   "cell_type": "code",
   "execution_count": 42,
   "metadata": {},
   "outputs": [
    {
     "name": "stdout",
     "output_type": "stream",
     "text": [
      "The most negative, or 'saddest', sentence: \n",
      " Thirst was his worst suffering; but one sip of the thick greenish water that stood in a pail near him disgusted him; he would rather die than drink another.\n"
     ]
    }
   ],
   "source": [
    "# Finding the saddest sentence in Flush\n",
    "sentence_min(flush_vader)"
   ]
  },
  {
   "cell_type": "markdown",
   "metadata": {},
   "source": [
    "<em>Thinking Critically About the Biographies' Vader Scores in Context, cont'd</em>:\n",
    "\n",
    "In <em>Flush</em>, the saddest sentence is grounded in the dog's physical state: his thirst and his disgust for the water in front of him. This could explain why <em>Flush</em> has such a low vader_compound score; rather than being weighed down by more solemn discussions of death, depression, or trauma, the text is littered with negativity regarding more trivial matters. However, as readers, we do not perceive <em>Flush</em> as a necessarily sad text since we discern the negativity about trivial matters from significant ones. "
   ]
  },
  {
   "cell_type": "markdown",
   "metadata": {},
   "source": [
    "### Essays\n",
    "Virginia Woolf was also extremely well-known for her writings promoting liberal politics, particularly the feminist and anti-fascist movements. Her two most notable political pieces are <em>A Room of One's Own</em> and <em>Three Guineas</em>. We can visualize the sentiment across these polemics, alongisde Woolf's two essays, \"Mr. Bennett and Mrs. Brown\", and \"Modern Fiction\", that pose compelling literary arguments about modernist novels."
   ]
  },
  {
   "cell_type": "code",
   "execution_count": 43,
   "metadata": {},
   "outputs": [
    {
     "data": {
      "image/png": "[encoded data removed]",
      "text/plain": [
       "<Figure size 1080x504 with 1 Axes>"
      ]
     },
     "metadata": {
      "needs_background": "light"
     },
     "output_type": "display_data"
    }
   ],
   "source": [
    "# Bar chart with average negative, positive, and compound vader scores for each polemic/essay\n",
    "# Ordered chronologically\n",
    "\n",
    "novel_df = vader_means[['modern', 'bennett', 'room', 'guineas']].drop(['vader_neu'])\n",
    "ax = novel_df.plot.bar(rot=0, figsize = (15,7))\n",
    "ax.legend(fontsize=12)\n",
    "\n",
    "plt.title(\"Comparing the Vader Scores of Woolf's Critical Essays\", fontsize = 15)\n",
    "plt.xlabel('Vader Category', fontsize = 15)\n",
    "plt.ylabel('Vader Score Magnitude', fontsize = 15)\n",
    "plt.show()"
   ]
  },
  {
   "cell_type": "markdown",
   "metadata": {},
   "source": [
    "<em>Understanding Essay Visualizations Through a Literary Lenses:</em>\n",
    "\n",
    "This visualization showcases a surprising spike in vader_pos and vader_compound for \"Modern Fiction\", a spike that fails to be reflected in the similar essay \"Mr. Bennett and Mrs. Brown\". \"Modern Fiction,\" perhaps the best known of all Virginia Woolf's essays, builds an argument on the materialistic preoccupation of novelists who see only the body and nothing of the mind. She argues that the future novels must leave the external world to instead create subjects out of the interiors of human experiences -- a principle upheld throughout Woolf's novels. In the same vein, Woolf's essay \"Mr. Bennett and Mrs. Brown\" also discusses literary creation, acting as a literary manifesto repudiating traditional novels that deprived readers of insight into human character. One would expect the two to have very similar sentiment scores. \n",
    "\n",
    "Meanwhile, Woolf's essays <em>A Room of One's Own</em> and <em>Three Guineas</em> take a stance on a broader, more controversial stage. <em>A Room of One's Own</em>, published in 1929, stands as the classic essay on feminism, characterized by its shrewd reasoning, foolproof arguments, and engaging evidence. Woolf argues for equal rights for both sexes, proves how women are deprived of powers and privileges, and imagines instances that illustrate how women have been kept mute, maternal, poor, and oppressed. Serving as a sequel to <em>A Room of One's Own</em>, <em>Three Guineas</em>, 1938,  dives into the realm of war and fascism. In the growing threat of another world war, Woolf critiques patriarchy and fascism while highlighting women's oppression in society and the male norms of violence, competition, and domination. Thus, <em>A Room of One's Own</em> and <em>Three Guineas</em> might similar vader scores could have been anticipated. Still, it might be interesting to look at the most negative sentences in these two polemics; do they critique the same societal downfalls and disappointments?"
   ]
  },
  {
   "cell_type": "code",
   "execution_count": 44,
   "metadata": {},
   "outputs": [
    {
     "name": "stdout",
     "output_type": "stream",
     "text": [
      "The most negative, or 'saddest', sentence: \n",
      " His expression suggested that he was labouring under some emotion that made him jab his pen on the paper as if he were killing some noxious insect as he wrote, but even when he had killed it that did not satisfy him; he must go on killing it; and even so, some cause for anger and irritation remained.\n"
     ]
    }
   ],
   "source": [
    "# The least positive sentence in A Room of One's Own\n",
    "sentence_min(room_of_ones_own_vader)"
   ]
  },
  {
   "cell_type": "code",
   "execution_count": 45,
   "metadata": {},
   "outputs": [
    {
     "name": "stdout",
     "output_type": "stream",
     "text": [
      "The most negative, or 'saddest', sentence: \n",
      " ) This raises the difficult question whether those who did not aid in the prosecution of the war, but did what they could to hinder the prosecution of the war, ought to use the vote to which they are entitled chiefly because others 'aided in the prosecution of the war'?\n"
     ]
    }
   ],
   "source": [
    "# The least positive sentence in Three Guineas\n",
    "sentence_min(three_guineas_vader)"
   ]
  },
  {
   "attachments": {},
   "cell_type": "markdown",
   "metadata": {},
   "source": [
    "<em>Understanding Essay Visualizations Through a Literary Lenses, cont'd:</em>\n",
    "\n",
    "There seems to a common thread between these two sentences in the deliberate mention of \"killing\" and \"war\" in each respective sentence. In <em>A Room of One's Own</em>, the most negative sentence discusses the male nature of domination or control, how society normalizes violence by men, and engrains in them an insatiable desire to oppress. Then, in <em>Three Guineas</em>, this sentence uses the phrase \"prosecution in the war\" three times, discussing an individual's role in the war's prosecution. When thinking back to the text, I am sure many other sentences might be more violent. However, it might be the repeated use of that phrase that consistently amplifies the negativity of war; although, in context, one might view the war's prosecution positively."
   ]
  },
  {
   "cell_type": "markdown",
   "metadata": {},
   "source": [
    "## 7. In Conclusion...\n",
    "Emotion, particularly in Woolfean literature, is an incredibly elusive and evasive characteristic to quantify. However, through text-mining, semantic analysis, and data visualizations, we can try to find ways to accurately capture objective illustrations of this very subjective nature that underlays each of Woolf's texts. These dataframes, summary statistics, and visualizations provided new lenses through which we could re-explore and re-imagine Woolf's texts. While our quantitative analyses might not have always given us the answers to our qualitative ambiguities, they provoked intriguing new questions, uncovered unseen similarities across texts, and revealed an uncharted side to understanding the worlds that Woolf created."
   ]
  },
  {
   "attachments": {},
   "cell_type": "markdown",
   "metadata": {},
   "source": [
    "## 8. Acknowledgements!\n",
    "Thank you to Professor Elizabeth Evans for providing me the space and time to take on this challenging expedition! This project would not have been possible without your encouragement, guidance, and everything I have learned from you in ENGL 3520 this past semester.\n",
    "\n",
    "I would also like to acknowledge Project Gutenberg for publishing free online versions of Virginia Woolf's texts. Without their efforts to digitize, archive, and distribute our society's greatest literary accomplishments, this research project would not have been possible.\n",
    "\n",
    "Finally, I would like to recognize the informative references used throughout this project, listed below. They were critical in helping me fully understand the Vader method, as well as the Woolfean texts with which I was unfamiliar prior to this project."
   ]
  },
  {
   "cell_type": "markdown",
   "metadata": {},
   "source": [
    "### References\n",
    "Beri, Aditya. “SENTIMENTAL ANALYSIS USING VADER.” Medium, Towards Data Science, 27 May 2020, towardsdatascience.com/sentimental-analysis-using-vader-a3415fef7664. \n",
    "\n",
    "Caren, Neal. “Word Lists and Sentiment Analysis.” Neal Caren, 1 May 2019, nealcaren.org/lessons/wordlists/. \n",
    "\n",
    "Cersonsky, Emily. “Virginia Woolf.” Virginia Woolf: The Core Curriculum, Columbia Univeristy, 2020, college.columbia.edu/core/content/virginia-woolf. \n",
    "\n",
    "McGinn, Emily, et al. “Scholarly Editing.” Scholarly Editing: The Annual of the Association for Documentary Editing, 2014, scholarlyediting.org/2014/editions/intro.markonthewall.html. \n",
    "\n",
    "Virginia Woolf, The Virginia Woolf Reader. Ed. Mitchell Leaska. Harcourt, 1984."
   ]
  }
 ],
 "metadata": {
  "kernelspec": {
   "display_name": "Python 3",
   "language": "python",
   "name": "python3"
  },
  "language_info": {
   "codemirror_mode": {
    "name": "ipython",
    "version": 3
   },
   "file_extension": ".py",
   "mimetype": "text/x-python",
   "name": "python",
   "nbconvert_exporter": "python",
   "pygments_lexer": "ipython3",
   "version": "3.7.4"
  }
 },
 "nbformat": 4,
 "nbformat_minor": 2
}
